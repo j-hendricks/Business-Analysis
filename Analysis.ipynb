{
 "cells": [
  {
   "cell_type": "code",
   "execution_count": 1,
   "id": "f13e10a4",
   "metadata": {},
   "outputs": [],
   "source": [
    "# add dependencies\n",
    "import pandas as pd\n",
    "import numpy as np\n",
    "import matplotlib.pyplot as plt\n",
    "import seaborn as sns\n",
    "import os\n",
    "from datetime import datetime\n",
    "from scipy.stats import linregress"
   ]
  },
  {
   "cell_type": "code",
   "execution_count": 2,
   "id": "83fd5824",
   "metadata": {},
   "outputs": [],
   "source": [
    "#Questions to Answer\n",
    "# Are Sales Increasing? \n",
    "# What products are selling the most? \n",
    "# What products are selling the least? \n",
    "# Do Higher Discounts result in more products sold? Total Net Sales? \n",
    "# What products are increasing the most in demand? "
   ]
  },
  {
   "cell_type": "code",
   "execution_count": 3,
   "id": "d612f08c",
   "metadata": {},
   "outputs": [],
   "source": [
    "# write paths to files\n",
    "sales_path = os.path.join(\"Resources\",\"business.retailsales.csv\")\n",
    "monthly_sales_path = os.path.join(\"Resources\",\"business.retailsales2.csv\")\n",
    "\n",
    "# read files to pandas dataframes\n",
    "sales_df = pd.read_csv(sales_path)\n",
    "monthly_sales_df = pd.read_csv(monthly_sales_path)"
   ]
  },
  {
   "cell_type": "code",
   "execution_count": 4,
   "id": "1a79ce39",
   "metadata": {},
   "outputs": [
    {
     "data": {
      "text/html": [
       "<div>\n",
       "<style scoped>\n",
       "    .dataframe tbody tr th:only-of-type {\n",
       "        vertical-align: middle;\n",
       "    }\n",
       "\n",
       "    .dataframe tbody tr th {\n",
       "        vertical-align: top;\n",
       "    }\n",
       "\n",
       "    .dataframe thead th {\n",
       "        text-align: right;\n",
       "    }\n",
       "</style>\n",
       "<table border=\"1\" class=\"dataframe\">\n",
       "  <thead>\n",
       "    <tr style=\"text-align: right;\">\n",
       "      <th></th>\n",
       "      <th>Product Type</th>\n",
       "      <th>Net Quantity</th>\n",
       "      <th>Gross Sales</th>\n",
       "      <th>Discounts</th>\n",
       "      <th>Returns</th>\n",
       "      <th>Total Net Sales</th>\n",
       "    </tr>\n",
       "  </thead>\n",
       "  <tbody>\n",
       "    <tr>\n",
       "      <th>0</th>\n",
       "      <td>Art &amp; Sculpture</td>\n",
       "      <td>34</td>\n",
       "      <td>14935.0</td>\n",
       "      <td>-594.00</td>\n",
       "      <td>-1609.0</td>\n",
       "      <td>12732.00</td>\n",
       "    </tr>\n",
       "    <tr>\n",
       "      <th>1</th>\n",
       "      <td>Basket</td>\n",
       "      <td>13</td>\n",
       "      <td>3744.0</td>\n",
       "      <td>-316.80</td>\n",
       "      <td>0.0</td>\n",
       "      <td>3427.20</td>\n",
       "    </tr>\n",
       "    <tr>\n",
       "      <th>2</th>\n",
       "      <td>Basket</td>\n",
       "      <td>12</td>\n",
       "      <td>3825.0</td>\n",
       "      <td>-201.60</td>\n",
       "      <td>-288.0</td>\n",
       "      <td>3335.40</td>\n",
       "    </tr>\n",
       "    <tr>\n",
       "      <th>3</th>\n",
       "      <td>Basket</td>\n",
       "      <td>17</td>\n",
       "      <td>3035.0</td>\n",
       "      <td>-63.25</td>\n",
       "      <td>0.0</td>\n",
       "      <td>2971.75</td>\n",
       "    </tr>\n",
       "    <tr>\n",
       "      <th>4</th>\n",
       "      <td>Art &amp; Sculpture</td>\n",
       "      <td>47</td>\n",
       "      <td>2696.8</td>\n",
       "      <td>-44.16</td>\n",
       "      <td>0.0</td>\n",
       "      <td>2652.64</td>\n",
       "    </tr>\n",
       "  </tbody>\n",
       "</table>\n",
       "</div>"
      ],
      "text/plain": [
       "      Product Type  Net Quantity  Gross Sales  Discounts  Returns  \\\n",
       "0  Art & Sculpture            34      14935.0    -594.00  -1609.0   \n",
       "1           Basket            13       3744.0    -316.80      0.0   \n",
       "2           Basket            12       3825.0    -201.60   -288.0   \n",
       "3           Basket            17       3035.0     -63.25      0.0   \n",
       "4  Art & Sculpture            47       2696.8     -44.16      0.0   \n",
       "\n",
       "   Total Net Sales  \n",
       "0         12732.00  \n",
       "1          3427.20  \n",
       "2          3335.40  \n",
       "3          2971.75  \n",
       "4          2652.64  "
      ]
     },
     "execution_count": 4,
     "metadata": {},
     "output_type": "execute_result"
    }
   ],
   "source": [
    "sales_df.head()"
   ]
  },
  {
   "cell_type": "code",
   "execution_count": 5,
   "id": "13618e35",
   "metadata": {},
   "outputs": [
    {
     "data": {
      "text/html": [
       "<div>\n",
       "<style scoped>\n",
       "    .dataframe tbody tr th:only-of-type {\n",
       "        vertical-align: middle;\n",
       "    }\n",
       "\n",
       "    .dataframe tbody tr th {\n",
       "        vertical-align: top;\n",
       "    }\n",
       "\n",
       "    .dataframe thead th {\n",
       "        text-align: right;\n",
       "    }\n",
       "</style>\n",
       "<table border=\"1\" class=\"dataframe\">\n",
       "  <thead>\n",
       "    <tr style=\"text-align: right;\">\n",
       "      <th></th>\n",
       "      <th>Product Type</th>\n",
       "      <th>Net Quantity</th>\n",
       "      <th>Gross Sales</th>\n",
       "      <th>Discounts</th>\n",
       "      <th>Returns</th>\n",
       "      <th>Total Net Sales</th>\n",
       "      <th>%Discount</th>\n",
       "    </tr>\n",
       "  </thead>\n",
       "  <tbody>\n",
       "    <tr>\n",
       "      <th>0</th>\n",
       "      <td>Art &amp; Sculpture</td>\n",
       "      <td>34</td>\n",
       "      <td>14935.0</td>\n",
       "      <td>-594.00</td>\n",
       "      <td>-1609.0</td>\n",
       "      <td>12732.00</td>\n",
       "      <td>3.977235</td>\n",
       "    </tr>\n",
       "    <tr>\n",
       "      <th>1</th>\n",
       "      <td>Basket</td>\n",
       "      <td>13</td>\n",
       "      <td>3744.0</td>\n",
       "      <td>-316.80</td>\n",
       "      <td>0.0</td>\n",
       "      <td>3427.20</td>\n",
       "      <td>8.461538</td>\n",
       "    </tr>\n",
       "    <tr>\n",
       "      <th>2</th>\n",
       "      <td>Basket</td>\n",
       "      <td>12</td>\n",
       "      <td>3825.0</td>\n",
       "      <td>-201.60</td>\n",
       "      <td>-288.0</td>\n",
       "      <td>3335.40</td>\n",
       "      <td>5.270588</td>\n",
       "    </tr>\n",
       "    <tr>\n",
       "      <th>3</th>\n",
       "      <td>Basket</td>\n",
       "      <td>17</td>\n",
       "      <td>3035.0</td>\n",
       "      <td>-63.25</td>\n",
       "      <td>0.0</td>\n",
       "      <td>2971.75</td>\n",
       "      <td>2.084020</td>\n",
       "    </tr>\n",
       "    <tr>\n",
       "      <th>4</th>\n",
       "      <td>Art &amp; Sculpture</td>\n",
       "      <td>47</td>\n",
       "      <td>2696.8</td>\n",
       "      <td>-44.16</td>\n",
       "      <td>0.0</td>\n",
       "      <td>2652.64</td>\n",
       "      <td>1.637496</td>\n",
       "    </tr>\n",
       "  </tbody>\n",
       "</table>\n",
       "</div>"
      ],
      "text/plain": [
       "      Product Type  Net Quantity  Gross Sales  Discounts  Returns  \\\n",
       "0  Art & Sculpture            34      14935.0    -594.00  -1609.0   \n",
       "1           Basket            13       3744.0    -316.80      0.0   \n",
       "2           Basket            12       3825.0    -201.60   -288.0   \n",
       "3           Basket            17       3035.0     -63.25      0.0   \n",
       "4  Art & Sculpture            47       2696.8     -44.16      0.0   \n",
       "\n",
       "   Total Net Sales  %Discount  \n",
       "0         12732.00   3.977235  \n",
       "1          3427.20   8.461538  \n",
       "2          3335.40   5.270588  \n",
       "3          2971.75   2.084020  \n",
       "4          2652.64   1.637496  "
      ]
     },
     "execution_count": 5,
     "metadata": {},
     "output_type": "execute_result"
    }
   ],
   "source": [
    "sales_df[\"%Discount\"] = 100 * (-1 * sales_df['Discounts']) / sales_df['Gross Sales']\n",
    "sales_df.head()"
   ]
  },
  {
   "cell_type": "code",
   "execution_count": 8,
   "id": "c0567fcd",
   "metadata": {},
   "outputs": [
    {
     "data": {
      "text/plain": [
       "Product Type       8\n",
       "Net Quantity       0\n",
       "Gross Sales        0\n",
       "Discounts          0\n",
       "Returns            0\n",
       "Total Net Sales    0\n",
       "%Discount          1\n",
       "dtype: int64"
      ]
     },
     "execution_count": 8,
     "metadata": {},
     "output_type": "execute_result"
    }
   ],
   "source": [
    "# 8 products with null values\n",
    "sales_df.isnull().sum()"
   ]
  },
  {
   "cell_type": "code",
   "execution_count": 9,
   "id": "887a1672",
   "metadata": {},
   "outputs": [
    {
     "data": {
      "text/html": [
       "<div>\n",
       "<style scoped>\n",
       "    .dataframe tbody tr th:only-of-type {\n",
       "        vertical-align: middle;\n",
       "    }\n",
       "\n",
       "    .dataframe tbody tr th {\n",
       "        vertical-align: top;\n",
       "    }\n",
       "\n",
       "    .dataframe thead th {\n",
       "        text-align: right;\n",
       "    }\n",
       "</style>\n",
       "<table border=\"1\" class=\"dataframe\">\n",
       "  <thead>\n",
       "    <tr style=\"text-align: right;\">\n",
       "      <th></th>\n",
       "      <th>Product Type</th>\n",
       "      <th>Net Quantity</th>\n",
       "      <th>Gross Sales</th>\n",
       "      <th>Discounts</th>\n",
       "      <th>Returns</th>\n",
       "      <th>Total Net Sales</th>\n",
       "      <th>%Discount</th>\n",
       "    </tr>\n",
       "  </thead>\n",
       "  <tbody>\n",
       "    <tr>\n",
       "      <th>1774</th>\n",
       "      <td>Kitchen</td>\n",
       "      <td>-1</td>\n",
       "      <td>0.0</td>\n",
       "      <td>0.0</td>\n",
       "      <td>-106.25</td>\n",
       "      <td>-106.25</td>\n",
       "      <td>NaN</td>\n",
       "    </tr>\n",
       "  </tbody>\n",
       "</table>\n",
       "</div>"
      ],
      "text/plain": [
       "     Product Type  Net Quantity  Gross Sales  Discounts  Returns  \\\n",
       "1774      Kitchen            -1          0.0        0.0  -106.25   \n",
       "\n",
       "      Total Net Sales  %Discount  \n",
       "1774          -106.25        NaN  "
      ]
     },
     "execution_count": 9,
     "metadata": {},
     "output_type": "execute_result"
    }
   ],
   "source": [
    "sales_df[sales_df['%Discount'].isna()]"
   ]
  },
  {
   "cell_type": "code",
   "execution_count": 12,
   "id": "e638bb0a",
   "metadata": {},
   "outputs": [
    {
     "data": {
      "text/plain": [
       "Product Type       Kitchen\n",
       "Net Quantity            -1\n",
       "Gross Sales            0.0\n",
       "Discounts              0.0\n",
       "Returns            -106.25\n",
       "Total Net Sales    -106.25\n",
       "%Discount              NaN\n",
       "Name: 1774, dtype: object"
      ]
     },
     "execution_count": 12,
     "metadata": {},
     "output_type": "execute_result"
    }
   ],
   "source": [
    "sales_df.iloc[1774,:]\n",
    "# sales_df.isnull().sum()"
   ]
  },
  {
   "cell_type": "code",
   "execution_count": null,
   "id": "a0af31f2",
   "metadata": {},
   "outputs": [],
   "source": [
    "sales_df.tail()"
   ]
  },
  {
   "cell_type": "code",
   "execution_count": null,
   "id": "39b19954",
   "metadata": {},
   "outputs": [],
   "source": [
    "# sales with nulls makes up less than 1% of sales, so we can drop these rows\n",
    "num_null = sales_df.isnull().sum().tolist()[0]\n",
    "percent_null = num_null / len(sales_df) * 100\n",
    "percent_null"
   ]
  },
  {
   "cell_type": "code",
   "execution_count": null,
   "id": "aa01efa4",
   "metadata": {},
   "outputs": [],
   "source": [
    "# drop rows with null values, now the dataframe is clean\n",
    "sales_df = sales_df.dropna()\n",
    "sales_df.isnull().sum()"
   ]
  },
  {
   "cell_type": "code",
   "execution_count": null,
   "id": "c128d9bd",
   "metadata": {},
   "outputs": [],
   "source": [
    "# group orders by the product type \n",
    "sum_by_product = sales_df.groupby('Product Type').sum()"
   ]
  },
  {
   "cell_type": "code",
   "execution_count": null,
   "id": "8ec51413",
   "metadata": {},
   "outputs": [],
   "source": [
    "product_list = sum_by_product.index.tolist()\n",
    "sum_products_sold = sum_by_product['Net Quantity']"
   ]
  },
  {
   "cell_type": "code",
   "execution_count": null,
   "id": "e769e17a",
   "metadata": {},
   "outputs": [],
   "source": [
    "# plot total number of items sold for each product\n",
    "# most ordered products are Art/Sculpture, Basket, and jewelry\n",
    "plt.bar(product_list, sum_products_sold)\n",
    "plt.xticks(rotation = 80)\n",
    "plt.title(\"Items Sold Per Product\")\n",
    "plt.ylabel(\"Quantity Sold\")"
   ]
  },
  {
   "cell_type": "code",
   "execution_count": null,
   "id": "5f94e698",
   "metadata": {},
   "outputs": [],
   "source": [
    "# most of the money lost by returns is from baskets and Art/Sculptures\n",
    "returns_by_product = sum_by_product['Returns'] * -1\n",
    "plt.bar(product_list, returns_by_product)\n",
    "plt.xticks(rotation = 80)\n",
    "plt.ylabel(\"Returns ($)\")\n",
    "plt.title(\"Returns From Each Product\")\n",
    "plt.show()"
   ]
  },
  {
   "cell_type": "code",
   "execution_count": null,
   "id": "7d904c0b",
   "metadata": {},
   "outputs": [],
   "source": [
    "# most of the money from discounts is from baskets and Art/Sculpture\n",
    "discount_by_product = sum_by_product['Discounts'] * -1\n",
    "plt.bar(product_list, discount_by_product)\n",
    "plt.xticks(rotation = 80)\n",
    "plt.ylabel(\"Discounts ($)\")\n",
    "plt.title(\"Total Discounts Per Product Type\")"
   ]
  },
  {
   "cell_type": "code",
   "execution_count": null,
   "id": "9fa667f3",
   "metadata": {},
   "outputs": [],
   "source": [
    "# inspect the second data frame\n",
    "# we are given monthy sales, but do not know details about the products sold\n",
    "monthly_sales_df.head()"
   ]
  },
  {
   "cell_type": "code",
   "execution_count": null,
   "id": "7d9bf93a",
   "metadata": {},
   "outputs": [],
   "source": [
    "# data is clean\n",
    "monthly_sales_df.isnull().sum()"
   ]
  },
  {
   "cell_type": "code",
   "execution_count": null,
   "id": "5d2b3b93",
   "metadata": {},
   "outputs": [],
   "source": [
    "# create new column that combines month and year\n",
    "monthly_sales_df['Month-Year'] = monthly_sales_df['Month'] + ' ' + monthly_sales_df['Year'].astype(str)\n",
    "monthly_sales_df['Month-Year'] "
   ]
  },
  {
   "cell_type": "code",
   "execution_count": null,
   "id": "3fdec700",
   "metadata": {},
   "outputs": [],
   "source": [
    "# demonstration of converting string to datetime object\n",
    "s = monthly_sales_df['Month-Year'][0]\n",
    "_format = \"%B %Y\"\n",
    "date = datetime.strptime(s,_format) \n",
    "print(date)"
   ]
  },
  {
   "cell_type": "code",
   "execution_count": null,
   "id": "0d718cb9",
   "metadata": {},
   "outputs": [],
   "source": [
    "# use the apply function to convert each Month-Year to an actual date\n",
    "monty_year_series = monthly_sales_df['Month-Year'].apply(lambda x: datetime.strptime(x,_format))\n",
    "monthly_sales_df['Month-Year'] = monty_year_series\n",
    "monthly_sales_df['Month-Year'].head()"
   ]
  },
  {
   "cell_type": "code",
   "execution_count": null,
   "id": "83ff4f04",
   "metadata": {},
   "outputs": [],
   "source": [
    "# Check type of Month-Year column - it is in fact a datetime object now\n",
    "monthly_sales_df.dtypes"
   ]
  },
  {
   "cell_type": "code",
   "execution_count": null,
   "id": "395ef861",
   "metadata": {},
   "outputs": [],
   "source": [
    "monthly_sales_df['Net Loss'] = (monthly_sales_df['Gross Sales'] - monthly_sales_df['Net Sales']) / (monthly_sales_df['Gross Sales']) * 100\n",
    "monthly_sales_df['Net Loss'] = monthly_sales_df['Net Loss'].apply(lambda x: round(x, 0))"
   ]
  },
  {
   "cell_type": "code",
   "execution_count": null,
   "id": "51917847",
   "metadata": {},
   "outputs": [],
   "source": [
    "plt.plot(monthly_sales_df['Month-Year'],monthly_sales_df['Net Loss'])\n",
    "plt.xticks(rotation = 50)\n",
    "plt.ylabel(\"Loss (%)\")\n",
    "plt.title(\"Monthly Net Loss (2017-2019)\")"
   ]
  },
  {
   "cell_type": "code",
   "execution_count": null,
   "id": "3d638062",
   "metadata": {},
   "outputs": [],
   "source": [
    "plt.plot(monthly_sales_df['Month-Year'],monthly_sales_df['Discounts'] * -1)\n",
    "plt.xticks(rotation = 50)\n",
    "plt.ylabel(\"Discounts ($)\")\n",
    "plt.title(\"Monthly Net Discounts (2017-2019)\")"
   ]
  },
  {
   "cell_type": "code",
   "execution_count": null,
   "id": "4b6a5e30",
   "metadata": {},
   "outputs": [],
   "source": [
    "\n",
    "plt.plot(monthly_sales_df['Month-Year'],monthly_sales_df['Returns'] * -1)\n",
    "plt.xticks(rotation = 50)\n",
    "plt.ylabel(\"Returns ($)\")\n",
    "plt.title(\"Monthly Net Returns (2017-2019)\")"
   ]
  },
  {
   "cell_type": "code",
   "execution_count": null,
   "id": "97aca77c",
   "metadata": {},
   "outputs": [],
   "source": [
    "plt.plot(monthly_sales_df['Month-Year'],monthly_sales_df['Returns'] * -1)\n",
    "plt.plot(monthly_sales_df['Month-Year'],monthly_sales_df['Net Loss'] * 90)\n",
    "plt.xticks(rotation = 50)\n",
    "plt.ylabel(\"Toal Net Loss / Scaling Factor\")\n",
    "plt.title(\"Comparison of Net Loss and Monthly Returns (2017-2019)\")"
   ]
  },
  {
   "cell_type": "code",
   "execution_count": null,
   "id": "e7649c41",
   "metadata": {},
   "outputs": [],
   "source": [
    "plt.plot(monthly_sales_df['Month-Year'], monthly_sales_df['Total Sales'])\n",
    "plt.xticks(rotation = 50)\n",
    "plt.ylabel(\"Sales ($)\")\n",
    "plt.title(\"Monthly Total Sales (2017-2019)\")"
   ]
  },
  {
   "cell_type": "code",
   "execution_count": null,
   "id": "9ac2c2c2",
   "metadata": {},
   "outputs": [],
   "source": [
    "monthly_sales_df.groupby('Year').sum()"
   ]
  },
  {
   "cell_type": "code",
   "execution_count": null,
   "id": "d160e820",
   "metadata": {},
   "outputs": [],
   "source": [
    "years = monthly_sales_df.groupby('Year').sum().index.tolist()\n",
    "years"
   ]
  },
  {
   "cell_type": "code",
   "execution_count": null,
   "id": "bb021b55",
   "metadata": {},
   "outputs": [],
   "source": [
    "tot_annual_sales = monthly_sales_df.groupby('Year').sum()['Total Sales'].values.tolist()\n",
    "tot_annual_sales"
   ]
  },
  {
   "cell_type": "code",
   "execution_count": null,
   "id": "4d035760",
   "metadata": {},
   "outputs": [],
   "source": [
    "plt.plot(years, tot_annual_sales)\n",
    "plt.xticks(ticks = years)\n",
    "plt.title(\"Annual Sales (2017-2019)\")\n",
    "plt.ylabel(\"Sales ($)\")"
   ]
  },
  {
   "cell_type": "code",
   "execution_count": null,
   "id": "63284781",
   "metadata": {},
   "outputs": [],
   "source": [
    "plt.bar(years, tot_annual_sales)\n",
    "plt.xticks(ticks=years)\n",
    "plt.title(\"Annual Sales (2017-2019)\")\n",
    "plt.ylabel(\"Sales ($)\")"
   ]
  },
  {
   "cell_type": "code",
   "execution_count": null,
   "id": "66637a70",
   "metadata": {},
   "outputs": [],
   "source": [
    "year_2017 = monthly_sales_df.loc[monthly_sales_df['Year'] == 2017]\n",
    "year_2018 = monthly_sales_df.loc[monthly_sales_df['Year'] == 2018]\n",
    "year_2019 = monthly_sales_df.loc[monthly_sales_df['Year'] == 2019]"
   ]
  },
  {
   "cell_type": "code",
   "execution_count": null,
   "id": "9f0159fd",
   "metadata": {},
   "outputs": [],
   "source": [
    "# Each Year, Total Sales Skyrocket From October to December, likely because of Christmas season\n",
    "plt.plot(year_2017['Month'], year_2017['Total Sales'])\n",
    "plt.xticks(rotation=50)\n",
    "plt.ylabel(\"Sales ($)\")\n",
    "plt.title(\"Toal Monthly Sales (2017)\")\n",
    "plt.show()"
   ]
  },
  {
   "cell_type": "code",
   "execution_count": null,
   "id": "84e15786",
   "metadata": {},
   "outputs": [],
   "source": [
    "plt.plot(year_2018['Month'], year_2018['Total Sales'])\n",
    "plt.xticks(rotation=50)\n",
    "plt.ylabel(\"Sales ($)\")\n",
    "plt.title(\"Toal Monthly Sales (2018)\")\n",
    "plt.show()"
   ]
  },
  {
   "cell_type": "code",
   "execution_count": null,
   "id": "8dcbd557",
   "metadata": {},
   "outputs": [],
   "source": [
    "plt.plot(year_2019['Month'], year_2019['Total Sales'])\n",
    "plt.xticks(rotation=50)\n",
    "plt.ylabel(\"Sales ($)\")\n",
    "plt.title(\"Toal Monthly Sales (2019)\")\n",
    "plt.show()"
   ]
  },
  {
   "cell_type": "code",
   "execution_count": null,
   "id": "87b21399",
   "metadata": {},
   "outputs": [],
   "source": [
    "plt.plot(year_2017['Month'], year_2017['Total Orders'])\n",
    "plt.plot(year_2018['Month'], year_2018['Total Orders'])\n",
    "plt.plot(year_2019['Month'], year_2019['Total Orders'])\n",
    "plt.xticks(rotation=50)\n",
    "plt.legend(labels = [\"2017\",\"2018\",\"2019\"])\n",
    "plt.title(\"Total Monthly Orders (2017-2019\")\n",
    "plt.ylabel(\"Number of Items Sold\")\n",
    "plt.show()"
   ]
  },
  {
   "cell_type": "code",
   "execution_count": null,
   "id": "470c9668",
   "metadata": {},
   "outputs": [],
   "source": [
    "monthly_sales_df.groupby('Month').mean()"
   ]
  },
  {
   "cell_type": "code",
   "execution_count": null,
   "id": "553b2e04",
   "metadata": {},
   "outputs": [],
   "source": [
    "plt.plot(year_2017['Month'],monthly_sales_df['Net Loss'][0:12])\n",
    "plt.xticks(rotation = 50)"
   ]
  },
  {
   "cell_type": "code",
   "execution_count": null,
   "id": "a695a6d7",
   "metadata": {},
   "outputs": [],
   "source": [
    "plt.plot(year_2018['Month'],monthly_sales_df['Net Loss'][12:24])\n",
    "plt.xticks(rotation = 50)"
   ]
  },
  {
   "cell_type": "code",
   "execution_count": null,
   "id": "60b99efc",
   "metadata": {},
   "outputs": [],
   "source": [
    "plt.plot(year_2019['Month'],monthly_sales_df['Net Loss'][24:36])\n",
    "plt.xticks(rotation = 50)"
   ]
  },
  {
   "cell_type": "code",
   "execution_count": null,
   "id": "556a2465",
   "metadata": {},
   "outputs": [],
   "source": [
    "(slope, intercept, r_value, p_value, std_err) = linregress(monthly_sales_df['Month-Year'].index.tolist(), monthly_sales_df['Total Sales'].values.tolist())\n",
    "line_eq = \"y = \" + str(round(slope,2)) + \"x + \" + str(round(intercept,2))\n",
    "regress_values = [(i * slope + intercept) for i in monthly_sales_df['Month-Year'].index.tolist()]\n",
    "plt.scatter(monthly_sales_df['Month-Year'].index, monthly_sales_df['Total Sales'])\n",
    "plt.plot(monthly_sales_df['Month-Year'].index.tolist(),regress_values,\"r\")\n",
    "plt.annotate(line_eq, (15, 20000), fontsize=15, color=\"red\")\n",
    "print(f\"r value: {r_value}\\np_value: {p_value}\")\n",
    "plt.show()"
   ]
  },
  {
   "cell_type": "code",
   "execution_count": null,
   "id": "4c137c74",
   "metadata": {},
   "outputs": [],
   "source": [
    "(slope, intercept, r_value, p_value, std_err) = linregress(monthly_sales_df['Month-Year'].index.tolist(), monthly_sales_df['Net Loss'].values.tolist())\n",
    "line_eq = \"y = \" + str(round(slope,2)) + \"x + \" + str(round(intercept,2))\n",
    "regress_values = [(i * slope + intercept) for i in monthly_sales_df['Month-Year'].index.tolist()]\n",
    "plt.scatter(monthly_sales_df['Month-Year'].index, monthly_sales_df['Net Loss'])\n",
    "plt.plot(monthly_sales_df['Month-Year'].index.tolist(),regress_values,\"r\")\n",
    "plt.annotate(line_eq, (15, 14), fontsize=15, color=\"red\")\n",
    "print(f\"r value: {r_value}\\np_value: {p_value}\")\n",
    "plt.show()"
   ]
  },
  {
   "cell_type": "code",
   "execution_count": null,
   "id": "a0ea8d4c",
   "metadata": {},
   "outputs": [],
   "source": [
    "(slope, intercept, r_value, p_value, std_err) = linregress((sales_df['Discounts']*-1).values.tolist(), sales_df['Net Quantity'].values.tolist())\n",
    "line_eq = \"y = \" + str(round(slope,2)) + \"x + \" + str(round(intercept,2))\n",
    "regress_values = [(i * slope + intercept) for i in (sales_df['Discounts']*-1).values.tolist()]\n",
    "plt.scatter((sales_df['Discounts']*-1) ,sales_df['Net Quantity'])\n",
    "plt.plot((sales_df['Discounts']*-1).values.tolist(),regress_values,\"r\")\n",
    "plt.annotate(line_eq, (200, 60), fontsize=15, color=\"red\")\n",
    "plt.annotate(f\"r value: {round(r_value,3)}\", (205, 50), fontsize=15, color=\"red\")\n",
    "print(f\"r value: {round(r_value,3)}\\np_value: {'{:0.2e}'.format(p_value)}\")\n",
    "plt.title(\"Quantity of Product Sold Vs Discount\")\n",
    "plt.ylabel(\"Number Sold\")\n",
    "plt.xlabel(\"Discount ($)\")\n",
    "plt.show()"
   ]
  },
  {
   "cell_type": "code",
   "execution_count": null,
   "id": "12d6beee",
   "metadata": {},
   "outputs": [],
   "source": [
    "(slope, intercept, r_value, p_value, std_err) = linregress((sales_df['Discounts']*-1).values.tolist(), sales_df['Total Net Sales'].values.tolist())\n",
    "line_eq = \"y = \" + str(round(slope,2)) + \"x + \" + str(round(intercept,2))\n",
    "regress_values = [(i * slope + intercept) for i in (sales_df['Discounts']*-1).values.tolist()]\n",
    "plt.scatter((sales_df['Discounts']*-1) ,sales_df['Total Net Sales'])\n",
    "plt.plot((sales_df['Discounts']*-1).values.tolist(),regress_values,\"r\")\n",
    "plt.annotate(line_eq, (200, 10000), fontsize=15, color=\"red\")\n",
    "plt.annotate(f\"r value: {round(r_value,3)}\", (202, 9000), fontsize=15, color=\"red\")\n",
    "print(f\"r value: {r_value}\\np_value: {'{:0.2e}'.format(p_value)}\\nr^2: {r_value * r_value}\")\n",
    "plt.title(\"Total Net Sales vs Discount\")\n",
    "plt.xlabel(\"Discount ($)\")\n",
    "plt.ylabel(\"Total Net Sales ($)\")\n",
    "plt.show()"
   ]
  },
  {
   "cell_type": "code",
   "execution_count": null,
   "id": "1da0b6c8",
   "metadata": {},
   "outputs": [],
   "source": [
    "(slope, intercept, r_value, p_value, std_err) = linregress((sales_df['%Discount']).values.tolist(), sales_df['Total Net Sales'].values.tolist())\n",
    "line_eq = \"y = \" + str(round(slope,2)) + \"x + \" + str(round(intercept,2))\n",
    "regress_values = [(i * slope + intercept) for i in (sales_df['%Discount']).values.tolist()]\n",
    "plt.scatter((sales_df['%Discount']) ,sales_df['Total Net Sales'])\n",
    "plt.plot((sales_df['%Discount']).values.tolist(),regress_values,\"r\")\n",
    "plt.annotate(line_eq, (200, 10000), fontsize=15, color=\"red\")\n",
    "plt.annotate(f\"r value: {round(r_value,3)}\", (202, 9000), fontsize=15, color=\"red\")\n",
    "print(f\"r value: {r_value}\\np_value: {'{:0.2e}'.format(p_value)}\\nr^2: {r_value * r_value}\")\n",
    "plt.title(\"Total Net Sales vs % Discount\")\n",
    "plt.xlabel(\"Discount (%)\")\n",
    "plt.ylabel(\"Total Net Sales ($)\")\n",
    "plt.show()"
   ]
  },
  {
   "cell_type": "code",
   "execution_count": null,
   "id": "22c2d68e",
   "metadata": {},
   "outputs": [],
   "source": [
    "sales_df"
   ]
  },
  {
   "cell_type": "code",
   "execution_count": null,
   "id": "e9f3aa7f",
   "metadata": {},
   "outputs": [],
   "source": [
    "sales_df[sales_df['Total Net Sales'] < 0]"
   ]
  },
  {
   "cell_type": "code",
   "execution_count": null,
   "id": "94896cde",
   "metadata": {},
   "outputs": [],
   "source": [
    "sales_per_item = sales_df.groupby('Product Type').sum()['Total Net Sales'] / sales_df.groupby('Product Type').sum()['Net Quantity']"
   ]
  },
  {
   "cell_type": "code",
   "execution_count": null,
   "id": "96dd066a",
   "metadata": {},
   "outputs": [],
   "source": [
    "# increase revenue by producing more one-of-a-kind products\n",
    "plt.bar(sales_per_item.index.tolist(), sales_per_item.values.tolist())\n",
    "plt.xticks(rotation = 80)\n",
    "plt.title(\"Revenue Made per Item Sold\")\n",
    "plt.ylabel(\"Revenue ($)\")"
   ]
  },
  {
   "cell_type": "code",
   "execution_count": null,
   "id": "9da8f96d",
   "metadata": {},
   "outputs": [],
   "source": [
    "sales_df[]"
   ]
  },
  {
   "cell_type": "code",
   "execution_count": null,
   "id": "d902fa45",
   "metadata": {},
   "outputs": [],
   "source": [
    "total_orders = sum(monthly_sales_df['Total Orders'].values.tolist())\n",
    "total_orders"
   ]
  },
  {
   "cell_type": "code",
   "execution_count": null,
   "id": "e97b90de",
   "metadata": {},
   "outputs": [],
   "source": [
    "total_items_sold = sum(sales_df['Net Quantity'].values.tolist())\n",
    "total_items_sold"
   ]
  },
  {
   "cell_type": "code",
   "execution_count": null,
   "id": "be51569f",
   "metadata": {},
   "outputs": [],
   "source": [
    "# each order is two items bought on average\n",
    "avg_order = round(total_items_sold / total_orders, 2)\n",
    "avg_order"
   ]
  },
  {
   "cell_type": "code",
   "execution_count": null,
   "id": "0fa15153",
   "metadata": {},
   "outputs": [],
   "source": [
    "#Questions to Answer\n",
    "# Are Sales Increasing? --> Yes\n",
    "# What products are selling the most? --> Basket, Art & Sculpture, jewelry\n",
    "# What products are selling the least? --> Easter, Gift Baskets, One-of-a-kind\n",
    "# Do Higher Discounts result in more products sold? Total Net Sales? --> Yes\n",
    "# What products are increasing the most in demand? --> cannot determine"
   ]
  },
  {
   "cell_type": "code",
   "execution_count": null,
   "id": "200946cf",
   "metadata": {},
   "outputs": [],
   "source": []
  },
  {
   "cell_type": "code",
   "execution_count": null,
   "id": "032fdfcd",
   "metadata": {},
   "outputs": [],
   "source": []
  }
 ],
 "metadata": {
  "kernelspec": {
   "display_name": "Python [conda env:PythonData]",
   "language": "python",
   "name": "conda-env-PythonData-py"
  },
  "language_info": {
   "codemirror_mode": {
    "name": "ipython",
    "version": 3
   },
   "file_extension": ".py",
   "mimetype": "text/x-python",
   "name": "python",
   "nbconvert_exporter": "python",
   "pygments_lexer": "ipython3",
   "version": "3.7.13"
  }
 },
 "nbformat": 4,
 "nbformat_minor": 5
}
