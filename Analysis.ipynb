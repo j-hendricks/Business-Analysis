{
 "cells": [
  {
   "cell_type": "code",
   "execution_count": 1,
   "id": "f13e10a4",
   "metadata": {},
   "outputs": [],
   "source": [
    "import pandas as pd\n",
    "import numpy as np\n",
    "import matplotlib.pyplot as plt\n",
    "import seaborn as sns\n",
    "import os\n",
    "from datetime import datetime\n",
    "from scipy.stats import linregress"
   ]
  },
  {
   "cell_type": "code",
   "execution_count": 2,
   "id": "83fd5824",
   "metadata": {},
   "outputs": [],
   "source": [
    "#Questions to Answer\n",
    "# Are Sales Increasing? \n",
    "# What products are selling the most? \n",
    "# What products are selling the least? \n",
    "# Do Higher Discounts result in more products sold? Total Net Sales? \n",
    "# What products are increasing the most in demand? "
   ]
  },
  {
   "cell_type": "code",
   "execution_count": 3,
   "id": "d612f08c",
   "metadata": {},
   "outputs": [],
   "source": [
    "sales_path = os.path.join(\"Resources\",\"business.retailsales.csv\")\n",
    "monthly_sales_path = os.path.join(\"Resources\",\"business.retailsales2.csv\")\n",
    "\n",
    "sales_df = pd.read_csv(sales_path)\n",
    "monthly_sales_df = pd.read_csv(monthly_sales_path)"
   ]
  },
  {
   "cell_type": "code",
   "execution_count": 4,
   "id": "1a79ce39",
   "metadata": {},
   "outputs": [
    {
     "data": {
      "text/html": [
       "<div>\n",
       "<style scoped>\n",
       "    .dataframe tbody tr th:only-of-type {\n",
       "        vertical-align: middle;\n",
       "    }\n",
       "\n",
       "    .dataframe tbody tr th {\n",
       "        vertical-align: top;\n",
       "    }\n",
       "\n",
       "    .dataframe thead th {\n",
       "        text-align: right;\n",
       "    }\n",
       "</style>\n",
       "<table border=\"1\" class=\"dataframe\">\n",
       "  <thead>\n",
       "    <tr style=\"text-align: right;\">\n",
       "      <th></th>\n",
       "      <th>Product Type</th>\n",
       "      <th>Net Quantity</th>\n",
       "      <th>Gross Sales</th>\n",
       "      <th>Discounts</th>\n",
       "      <th>Returns</th>\n",
       "      <th>Total Net Sales</th>\n",
       "    </tr>\n",
       "  </thead>\n",
       "  <tbody>\n",
       "    <tr>\n",
       "      <th>0</th>\n",
       "      <td>Art &amp; Sculpture</td>\n",
       "      <td>34</td>\n",
       "      <td>14935.0</td>\n",
       "      <td>-594.00</td>\n",
       "      <td>-1609.0</td>\n",
       "      <td>12732.00</td>\n",
       "    </tr>\n",
       "    <tr>\n",
       "      <th>1</th>\n",
       "      <td>Basket</td>\n",
       "      <td>13</td>\n",
       "      <td>3744.0</td>\n",
       "      <td>-316.80</td>\n",
       "      <td>0.0</td>\n",
       "      <td>3427.20</td>\n",
       "    </tr>\n",
       "    <tr>\n",
       "      <th>2</th>\n",
       "      <td>Basket</td>\n",
       "      <td>12</td>\n",
       "      <td>3825.0</td>\n",
       "      <td>-201.60</td>\n",
       "      <td>-288.0</td>\n",
       "      <td>3335.40</td>\n",
       "    </tr>\n",
       "    <tr>\n",
       "      <th>3</th>\n",
       "      <td>Basket</td>\n",
       "      <td>17</td>\n",
       "      <td>3035.0</td>\n",
       "      <td>-63.25</td>\n",
       "      <td>0.0</td>\n",
       "      <td>2971.75</td>\n",
       "    </tr>\n",
       "    <tr>\n",
       "      <th>4</th>\n",
       "      <td>Art &amp; Sculpture</td>\n",
       "      <td>47</td>\n",
       "      <td>2696.8</td>\n",
       "      <td>-44.16</td>\n",
       "      <td>0.0</td>\n",
       "      <td>2652.64</td>\n",
       "    </tr>\n",
       "  </tbody>\n",
       "</table>\n",
       "</div>"
      ],
      "text/plain": [
       "      Product Type  Net Quantity  Gross Sales  Discounts  Returns  \\\n",
       "0  Art & Sculpture            34      14935.0    -594.00  -1609.0   \n",
       "1           Basket            13       3744.0    -316.80      0.0   \n",
       "2           Basket            12       3825.0    -201.60   -288.0   \n",
       "3           Basket            17       3035.0     -63.25      0.0   \n",
       "4  Art & Sculpture            47       2696.8     -44.16      0.0   \n",
       "\n",
       "   Total Net Sales  \n",
       "0         12732.00  \n",
       "1          3427.20  \n",
       "2          3335.40  \n",
       "3          2971.75  \n",
       "4          2652.64  "
      ]
     },
     "execution_count": 4,
     "metadata": {},
     "output_type": "execute_result"
    }
   ],
   "source": [
    "sales_df.head()"
   ]
  },
  {
   "cell_type": "code",
   "execution_count": 5,
   "id": "c0567fcd",
   "metadata": {},
   "outputs": [
    {
     "data": {
      "text/plain": [
       "Product Type       8\n",
       "Net Quantity       0\n",
       "Gross Sales        0\n",
       "Discounts          0\n",
       "Returns            0\n",
       "Total Net Sales    0\n",
       "dtype: int64"
      ]
     },
     "execution_count": 5,
     "metadata": {},
     "output_type": "execute_result"
    }
   ],
   "source": [
    "sales_df.isnull().sum()"
   ]
  },
  {
   "cell_type": "code",
   "execution_count": 6,
   "id": "f01c0e62",
   "metadata": {},
   "outputs": [
    {
     "data": {
      "text/plain": [
       "['Art & Sculpture',\n",
       " 'Basket',\n",
       " 'Basket',\n",
       " 'Basket',\n",
       " 'Art & Sculpture',\n",
       " 'Basket',\n",
       " 'Basket',\n",
       " 'Christmas',\n",
       " 'Art & Sculpture',\n",
       " 'Basket',\n",
       " 'Basket',\n",
       " 'Home Decor',\n",
       " 'Basket',\n",
       " 'Art & Sculpture',\n",
       " 'Recycled Art',\n",
       " 'Jewelry',\n",
       " 'Basket',\n",
       " 'Jewelry',\n",
       " 'Home Decor',\n",
       " 'Basket',\n",
       " 'Art & Sculpture',\n",
       " 'Art & Sculpture',\n",
       " 'Art & Sculpture',\n",
       " 'Christmas',\n",
       " 'Jewelry',\n",
       " 'Art & Sculpture',\n",
       " 'Basket',\n",
       " 'Basket',\n",
       " 'Art & Sculpture',\n",
       " 'Skin Care',\n",
       " 'Home Decor',\n",
       " 'Basket',\n",
       " 'Art & Sculpture',\n",
       " 'Home Decor',\n",
       " 'Basket',\n",
       " 'Basket',\n",
       " 'Basket',\n",
       " 'Kitchen',\n",
       " 'Basket',\n",
       " 'Art & Sculpture',\n",
       " 'Art & Sculpture',\n",
       " 'Basket',\n",
       " 'Home Decor',\n",
       " 'Basket',\n",
       " 'Basket',\n",
       " 'Basket',\n",
       " 'Art & Sculpture',\n",
       " 'Art & Sculpture',\n",
       " 'Basket',\n",
       " 'Basket',\n",
       " 'Basket',\n",
       " 'Basket',\n",
       " 'Home Decor',\n",
       " 'Basket',\n",
       " 'Basket',\n",
       " 'Art & Sculpture',\n",
       " 'Basket',\n",
       " 'Art & Sculpture',\n",
       " 'Basket',\n",
       " 'Christmas',\n",
       " 'Art & Sculpture',\n",
       " 'Kitchen',\n",
       " 'Basket',\n",
       " 'Home Decor',\n",
       " 'Art & Sculpture',\n",
       " 'Basket',\n",
       " 'Basket',\n",
       " 'Basket',\n",
       " 'Art & Sculpture',\n",
       " 'Home Decor',\n",
       " 'Art & Sculpture',\n",
       " 'Jewelry',\n",
       " 'Basket',\n",
       " 'Basket',\n",
       " 'Art & Sculpture',\n",
       " 'Basket',\n",
       " 'Basket',\n",
       " 'Basket',\n",
       " 'Basket',\n",
       " 'Jewelry',\n",
       " 'Basket',\n",
       " 'Jewelry',\n",
       " 'Basket',\n",
       " 'Jewelry',\n",
       " 'Basket',\n",
       " 'Basket',\n",
       " 'Christmas',\n",
       " 'Basket',\n",
       " 'Basket',\n",
       " 'Jewelry',\n",
       " 'Jewelry',\n",
       " 'Art & Sculpture',\n",
       " 'Art & Sculpture',\n",
       " 'Home Decor',\n",
       " 'Art & Sculpture',\n",
       " 'Art & Sculpture',\n",
       " 'Art & Sculpture',\n",
       " 'Art & Sculpture',\n",
       " 'Basket',\n",
       " 'Jewelry',\n",
       " 'Basket',\n",
       " 'Art & Sculpture',\n",
       " 'Jewelry',\n",
       " 'Basket',\n",
       " 'Basket',\n",
       " 'Skin Care',\n",
       " 'Home Decor',\n",
       " 'Art & Sculpture',\n",
       " 'Basket',\n",
       " 'Kitchen',\n",
       " 'Basket',\n",
       " 'Basket',\n",
       " 'Christmas',\n",
       " 'Jewelry',\n",
       " 'Art & Sculpture',\n",
       " 'Home Decor',\n",
       " 'Home Decor',\n",
       " 'Basket',\n",
       " 'Basket',\n",
       " 'Basket',\n",
       " 'Basket',\n",
       " 'Basket',\n",
       " 'Basket',\n",
       " 'Art & Sculpture',\n",
       " 'Textiles',\n",
       " 'Art & Sculpture',\n",
       " 'Art & Sculpture',\n",
       " 'Basket',\n",
       " 'Basket',\n",
       " 'Art & Sculpture',\n",
       " 'Jewelry',\n",
       " 'Kitchen',\n",
       " 'Basket',\n",
       " 'Basket',\n",
       " 'Jewelry',\n",
       " 'Basket',\n",
       " 'Art & Sculpture',\n",
       " 'Jewelry',\n",
       " 'Art & Sculpture',\n",
       " 'Basket',\n",
       " 'Art & Sculpture',\n",
       " 'Art & Sculpture',\n",
       " 'Basket',\n",
       " 'Kitchen',\n",
       " 'Art & Sculpture',\n",
       " 'Basket',\n",
       " 'Christmas',\n",
       " 'Accessories',\n",
       " 'Jewelry',\n",
       " 'Basket',\n",
       " 'Art & Sculpture',\n",
       " 'Art & Sculpture',\n",
       " 'Art & Sculpture',\n",
       " 'Basket',\n",
       " 'Art & Sculpture',\n",
       " 'Basket',\n",
       " 'Art & Sculpture',\n",
       " 'Art & Sculpture',\n",
       " 'Jewelry',\n",
       " 'Christmas',\n",
       " 'Jewelry',\n",
       " 'Art & Sculpture',\n",
       " 'Basket',\n",
       " 'Christmas',\n",
       " 'Kitchen',\n",
       " 'Art & Sculpture',\n",
       " 'Art & Sculpture',\n",
       " 'Fair Trade Gifts',\n",
       " 'Basket',\n",
       " 'Basket',\n",
       " 'Art & Sculpture',\n",
       " 'One-of-a-Kind',\n",
       " 'Christmas',\n",
       " 'Jewelry',\n",
       " 'Basket',\n",
       " 'Basket',\n",
       " 'Basket',\n",
       " 'Art & Sculpture',\n",
       " 'Art & Sculpture',\n",
       " 'Art & Sculpture',\n",
       " 'Basket',\n",
       " 'Art & Sculpture',\n",
       " 'Home Decor',\n",
       " 'Basket',\n",
       " 'Art & Sculpture',\n",
       " 'Kitchen',\n",
       " 'Art & Sculpture',\n",
       " 'Art & Sculpture',\n",
       " 'Basket',\n",
       " 'Basket',\n",
       " 'Basket',\n",
       " 'Soapstone',\n",
       " 'Art & Sculpture',\n",
       " 'Kitchen',\n",
       " 'Art & Sculpture',\n",
       " 'Art & Sculpture',\n",
       " 'Christmas',\n",
       " 'Basket',\n",
       " 'Art & Sculpture',\n",
       " 'Basket',\n",
       " 'Basket',\n",
       " 'Basket',\n",
       " 'Art & Sculpture',\n",
       " 'Basket',\n",
       " 'Basket',\n",
       " 'Basket',\n",
       " 'Basket',\n",
       " 'Home Decor',\n",
       " 'Christmas',\n",
       " 'Basket',\n",
       " 'Basket',\n",
       " 'Jewelry',\n",
       " 'Basket',\n",
       " 'Fair Trade Gifts',\n",
       " 'Art & Sculpture',\n",
       " 'Basket',\n",
       " 'Art & Sculpture',\n",
       " 'Jewelry',\n",
       " 'Art & Sculpture',\n",
       " 'Art & Sculpture',\n",
       " 'Basket',\n",
       " 'Basket',\n",
       " 'Basket',\n",
       " 'Basket',\n",
       " 'Basket',\n",
       " 'Art & Sculpture',\n",
       " 'Basket',\n",
       " 'Art & Sculpture',\n",
       " 'Jewelry',\n",
       " 'Home Decor',\n",
       " 'Basket',\n",
       " 'Basket',\n",
       " 'Music',\n",
       " 'Art & Sculpture',\n",
       " 'Basket',\n",
       " 'Basket',\n",
       " 'Christmas',\n",
       " 'Basket',\n",
       " 'Art & Sculpture',\n",
       " 'Basket',\n",
       " 'Art & Sculpture',\n",
       " 'Kitchen',\n",
       " 'Art & Sculpture',\n",
       " 'Basket',\n",
       " 'Art & Sculpture',\n",
       " 'Basket',\n",
       " 'Art & Sculpture',\n",
       " 'Basket',\n",
       " 'Basket',\n",
       " 'Jewelry',\n",
       " 'Art & Sculpture',\n",
       " 'Jewelry',\n",
       " 'Kitchen',\n",
       " 'Basket',\n",
       " 'Jewelry',\n",
       " 'Art & Sculpture',\n",
       " 'Textiles',\n",
       " 'Basket',\n",
       " 'Home Decor',\n",
       " 'Art & Sculpture',\n",
       " 'Christmas',\n",
       " 'Soapstone',\n",
       " 'Home Decor',\n",
       " 'Home Decor',\n",
       " 'Furniture',\n",
       " 'Music',\n",
       " 'Art & Sculpture',\n",
       " 'Jewelry',\n",
       " 'Art & Sculpture',\n",
       " 'Christmas',\n",
       " 'Jewelry',\n",
       " 'Basket',\n",
       " 'Home Decor',\n",
       " 'Art & Sculpture',\n",
       " 'Home Decor',\n",
       " 'Art & Sculpture',\n",
       " 'Basket',\n",
       " 'Art & Sculpture',\n",
       " 'Christmas',\n",
       " 'Home Decor',\n",
       " 'Jewelry',\n",
       " 'Art & Sculpture',\n",
       " 'Art & Sculpture',\n",
       " 'Christmas',\n",
       " 'Home Decor',\n",
       " 'Home Decor',\n",
       " 'Christmas',\n",
       " 'Kids',\n",
       " 'Home Decor',\n",
       " 'Fair Trade Gifts',\n",
       " 'Kitchen',\n",
       " 'Basket',\n",
       " 'Recycled Art',\n",
       " 'Music',\n",
       " 'Basket',\n",
       " 'Jewelry',\n",
       " 'Basket',\n",
       " 'Basket',\n",
       " 'Home Decor',\n",
       " 'Home Decor',\n",
       " 'Home Decor',\n",
       " 'Furniture',\n",
       " 'Recycled Art',\n",
       " 'Art & Sculpture',\n",
       " 'Jewelry',\n",
       " 'Skin Care',\n",
       " 'Music',\n",
       " 'Basket',\n",
       " 'Basket',\n",
       " 'Basket',\n",
       " 'Art & Sculpture',\n",
       " 'Basket',\n",
       " 'Art & Sculpture',\n",
       " 'Basket',\n",
       " 'Jewelry',\n",
       " 'Home Decor',\n",
       " 'Kitchen',\n",
       " 'Christmas',\n",
       " 'Basket',\n",
       " 'Basket',\n",
       " 'Basket',\n",
       " 'Jewelry',\n",
       " 'Basket',\n",
       " 'Christmas',\n",
       " 'Skin Care',\n",
       " 'Basket',\n",
       " 'Christmas',\n",
       " 'Basket',\n",
       " 'Basket',\n",
       " 'Basket',\n",
       " 'Art & Sculpture',\n",
       " 'Art & Sculpture',\n",
       " 'Basket',\n",
       " 'Basket',\n",
       " 'Kitchen',\n",
       " 'Art & Sculpture',\n",
       " 'Basket',\n",
       " 'Basket',\n",
       " 'Basket',\n",
       " 'Basket',\n",
       " 'Basket',\n",
       " 'Basket',\n",
       " 'Basket',\n",
       " 'Basket',\n",
       " 'Basket',\n",
       " 'Basket',\n",
       " 'Basket',\n",
       " 'Basket',\n",
       " 'Christmas',\n",
       " 'Home Decor',\n",
       " 'Christmas',\n",
       " 'Home Decor',\n",
       " 'Basket',\n",
       " 'Art & Sculpture',\n",
       " 'Art & Sculpture',\n",
       " 'Basket',\n",
       " 'Basket',\n",
       " 'Basket',\n",
       " 'Basket',\n",
       " 'Basket',\n",
       " 'Basket',\n",
       " 'Art & Sculpture',\n",
       " 'Soapstone',\n",
       " 'Kitchen',\n",
       " 'Jewelry',\n",
       " 'Basket',\n",
       " 'Basket',\n",
       " 'Jewelry',\n",
       " 'Jewelry',\n",
       " 'Basket',\n",
       " 'Basket',\n",
       " 'Kitchen',\n",
       " 'Art & Sculpture',\n",
       " 'Art & Sculpture',\n",
       " 'One-of-a-Kind',\n",
       " 'One-of-a-Kind',\n",
       " 'One-of-a-Kind',\n",
       " 'Basket',\n",
       " 'Home Decor',\n",
       " 'Basket',\n",
       " 'Basket',\n",
       " 'Art & Sculpture',\n",
       " 'Accessories',\n",
       " 'Accessories',\n",
       " 'Art & Sculpture',\n",
       " 'Accessories',\n",
       " 'Home Decor',\n",
       " 'Accessories',\n",
       " 'Jewelry',\n",
       " 'Basket',\n",
       " 'Art & Sculpture',\n",
       " 'Basket',\n",
       " 'Basket',\n",
       " 'Basket',\n",
       " 'Basket',\n",
       " 'Recycled Art',\n",
       " 'Jewelry',\n",
       " 'Soapstone',\n",
       " 'Art & Sculpture',\n",
       " 'Home Decor',\n",
       " 'Kids',\n",
       " 'Basket',\n",
       " 'Home Decor',\n",
       " 'Basket',\n",
       " 'Basket',\n",
       " 'Basket',\n",
       " 'Recycled Art',\n",
       " 'Basket',\n",
       " 'Basket',\n",
       " 'Basket',\n",
       " 'Basket',\n",
       " 'Basket',\n",
       " 'Basket',\n",
       " 'Home Decor',\n",
       " 'Accessories',\n",
       " 'Soapstone',\n",
       " 'Accessories',\n",
       " 'Art & Sculpture',\n",
       " 'Basket',\n",
       " 'Basket',\n",
       " 'Basket',\n",
       " 'Basket',\n",
       " 'Basket',\n",
       " 'Basket',\n",
       " 'Basket',\n",
       " 'Art & Sculpture',\n",
       " 'Basket',\n",
       " 'Basket',\n",
       " 'Basket',\n",
       " 'Basket',\n",
       " 'Basket',\n",
       " 'Basket',\n",
       " 'Basket',\n",
       " 'Basket',\n",
       " 'Basket',\n",
       " 'Basket',\n",
       " 'Basket',\n",
       " 'Basket',\n",
       " 'Basket',\n",
       " 'Art & Sculpture',\n",
       " 'Basket',\n",
       " 'Basket',\n",
       " 'Home Decor',\n",
       " 'Basket',\n",
       " 'Basket',\n",
       " 'Art & Sculpture',\n",
       " 'Music',\n",
       " 'Jewelry',\n",
       " 'Home Decor',\n",
       " 'Home Decor',\n",
       " 'Basket',\n",
       " 'Soapstone',\n",
       " 'Furniture',\n",
       " 'Recycled Art',\n",
       " 'Basket',\n",
       " 'Jewelry',\n",
       " 'Basket',\n",
       " 'Art & Sculpture',\n",
       " 'Kids',\n",
       " 'Jewelry',\n",
       " 'Jewelry',\n",
       " 'Art & Sculpture',\n",
       " 'Art & Sculpture',\n",
       " 'Jewelry',\n",
       " 'Art & Sculpture',\n",
       " 'Art & Sculpture',\n",
       " 'Basket',\n",
       " 'Art & Sculpture',\n",
       " 'Jewelry',\n",
       " 'Basket',\n",
       " 'Basket',\n",
       " 'Basket',\n",
       " 'Basket',\n",
       " 'One-of-a-Kind',\n",
       " 'Basket',\n",
       " 'Basket',\n",
       " 'Basket',\n",
       " 'Basket',\n",
       " 'Basket',\n",
       " 'Basket',\n",
       " 'Basket',\n",
       " 'Basket',\n",
       " 'Basket',\n",
       " 'Basket',\n",
       " 'Basket',\n",
       " 'Basket',\n",
       " 'Basket',\n",
       " 'Basket',\n",
       " 'Basket',\n",
       " 'Christmas',\n",
       " 'Home Decor',\n",
       " 'Music',\n",
       " 'Basket',\n",
       " 'Jewelry',\n",
       " 'Basket',\n",
       " 'Home Decor',\n",
       " 'Art & Sculpture',\n",
       " 'Art & Sculpture',\n",
       " 'Art & Sculpture',\n",
       " 'Art & Sculpture',\n",
       " 'Home Decor',\n",
       " 'Basket',\n",
       " 'Kitchen',\n",
       " 'Basket',\n",
       " 'Christmas',\n",
       " 'Kitchen',\n",
       " 'Jewelry',\n",
       " 'Kitchen',\n",
       " 'Home Decor',\n",
       " 'Furniture',\n",
       " 'Accessories',\n",
       " 'Basket',\n",
       " 'Soapstone',\n",
       " 'Art & Sculpture',\n",
       " 'Art & Sculpture',\n",
       " 'Kitchen',\n",
       " 'Kids',\n",
       " 'Home Decor',\n",
       " 'Basket',\n",
       " 'Basket',\n",
       " 'Basket',\n",
       " 'Basket',\n",
       " 'Basket',\n",
       " 'Basket',\n",
       " 'Basket',\n",
       " 'Basket',\n",
       " 'Basket',\n",
       " 'Basket',\n",
       " 'Basket',\n",
       " 'Basket',\n",
       " 'Art & Sculpture',\n",
       " 'Basket',\n",
       " 'Art & Sculpture',\n",
       " 'Basket',\n",
       " 'Basket',\n",
       " 'One-of-a-Kind',\n",
       " 'Basket',\n",
       " 'Basket',\n",
       " 'Basket',\n",
       " 'Textiles',\n",
       " 'Art & Sculpture',\n",
       " 'Art & Sculpture',\n",
       " 'Art & Sculpture',\n",
       " 'Basket',\n",
       " 'Basket',\n",
       " 'Home Decor',\n",
       " 'Basket',\n",
       " 'Christmas',\n",
       " 'Basket',\n",
       " 'Basket',\n",
       " nan,\n",
       " 'Basket',\n",
       " 'Basket',\n",
       " 'Basket',\n",
       " 'Basket',\n",
       " 'Basket',\n",
       " 'Basket',\n",
       " 'Basket',\n",
       " 'Basket',\n",
       " 'Art & Sculpture',\n",
       " 'Basket',\n",
       " 'Home Decor',\n",
       " 'Basket',\n",
       " 'Jewelry',\n",
       " 'Home Decor',\n",
       " 'Kitchen',\n",
       " 'Home Decor',\n",
       " 'Home Decor',\n",
       " 'Basket',\n",
       " 'Art & Sculpture',\n",
       " 'Art & Sculpture',\n",
       " 'Art & Sculpture',\n",
       " 'Jewelry',\n",
       " 'Art & Sculpture',\n",
       " 'Art & Sculpture',\n",
       " 'Basket',\n",
       " 'Jewelry',\n",
       " 'Art & Sculpture',\n",
       " 'Art & Sculpture',\n",
       " 'Art & Sculpture',\n",
       " 'Basket',\n",
       " 'Art & Sculpture',\n",
       " 'Art & Sculpture',\n",
       " 'Art & Sculpture',\n",
       " 'Soapstone',\n",
       " 'Basket',\n",
       " 'Basket',\n",
       " 'Basket',\n",
       " 'Basket',\n",
       " 'Kids',\n",
       " 'Basket',\n",
       " 'Home Decor',\n",
       " 'Basket',\n",
       " 'Basket',\n",
       " 'Basket',\n",
       " 'Art & Sculpture',\n",
       " 'Basket',\n",
       " 'Kitchen',\n",
       " 'Basket',\n",
       " 'Basket',\n",
       " 'Basket',\n",
       " 'Basket',\n",
       " 'Basket',\n",
       " 'Basket',\n",
       " 'Basket',\n",
       " 'Basket',\n",
       " 'Basket',\n",
       " 'Basket',\n",
       " 'Basket',\n",
       " 'Basket',\n",
       " 'Basket',\n",
       " 'Art & Sculpture',\n",
       " 'Basket',\n",
       " 'Basket',\n",
       " 'Basket',\n",
       " 'Basket',\n",
       " 'Basket',\n",
       " 'Basket',\n",
       " 'Basket',\n",
       " 'Basket',\n",
       " 'Basket',\n",
       " 'Basket',\n",
       " 'Basket',\n",
       " 'Basket',\n",
       " 'Basket',\n",
       " 'Basket',\n",
       " 'Jewelry',\n",
       " 'Kids',\n",
       " 'Basket',\n",
       " 'Art & Sculpture',\n",
       " 'Art & Sculpture',\n",
       " 'Art & Sculpture',\n",
       " 'Kitchen',\n",
       " 'Jewelry',\n",
       " 'Jewelry',\n",
       " 'Kitchen',\n",
       " 'Kitchen',\n",
       " 'Jewelry',\n",
       " 'Basket',\n",
       " 'Basket',\n",
       " 'Art & Sculpture',\n",
       " 'Basket',\n",
       " 'Basket',\n",
       " 'Art & Sculpture',\n",
       " 'Home Decor',\n",
       " 'Basket',\n",
       " 'Christmas',\n",
       " 'Basket',\n",
       " 'Jewelry',\n",
       " 'Jewelry',\n",
       " 'Art & Sculpture',\n",
       " 'Basket',\n",
       " 'Soapstone',\n",
       " 'Jewelry',\n",
       " 'Home Decor',\n",
       " 'Art & Sculpture',\n",
       " 'Basket',\n",
       " 'Art & Sculpture',\n",
       " 'Art & Sculpture',\n",
       " 'Basket',\n",
       " 'Basket',\n",
       " 'Art & Sculpture',\n",
       " 'Art & Sculpture',\n",
       " 'Basket',\n",
       " 'Basket',\n",
       " 'Basket',\n",
       " 'Soapstone',\n",
       " 'One-of-a-Kind',\n",
       " 'One-of-a-Kind',\n",
       " 'Art & Sculpture',\n",
       " 'Kitchen',\n",
       " 'Accessories',\n",
       " 'Christmas',\n",
       " 'Art & Sculpture',\n",
       " 'Christmas',\n",
       " 'Home Decor',\n",
       " 'Kids',\n",
       " 'Basket',\n",
       " 'Kitchen',\n",
       " 'Christmas',\n",
       " 'Jewelry',\n",
       " 'Basket',\n",
       " 'Basket',\n",
       " 'Soapstone',\n",
       " 'Basket',\n",
       " 'Basket',\n",
       " 'Basket',\n",
       " 'Home Decor',\n",
       " 'Home Decor',\n",
       " 'Art & Sculpture',\n",
       " 'Basket',\n",
       " 'Furniture',\n",
       " 'Home Decor',\n",
       " 'Basket',\n",
       " 'Home Decor',\n",
       " 'Kitchen',\n",
       " 'Christmas',\n",
       " 'Home Decor',\n",
       " 'Christmas',\n",
       " 'Basket',\n",
       " 'Art & Sculpture',\n",
       " 'Art & Sculpture',\n",
       " 'Art & Sculpture',\n",
       " nan,\n",
       " 'Basket',\n",
       " 'Art & Sculpture',\n",
       " 'Home Decor',\n",
       " 'Christmas',\n",
       " 'Soapstone',\n",
       " 'Kitchen',\n",
       " 'Jewelry',\n",
       " 'Basket',\n",
       " 'Basket',\n",
       " 'Basket',\n",
       " 'Basket',\n",
       " 'Art & Sculpture',\n",
       " 'Basket',\n",
       " 'Basket',\n",
       " 'Home Decor',\n",
       " 'Basket',\n",
       " 'Basket',\n",
       " 'Basket',\n",
       " 'One-of-a-Kind',\n",
       " 'One-of-a-Kind',\n",
       " 'Basket',\n",
       " 'Art & Sculpture',\n",
       " 'Basket',\n",
       " 'Basket',\n",
       " 'Kitchen',\n",
       " 'Kids',\n",
       " 'Art & Sculpture',\n",
       " 'Soapstone',\n",
       " 'Home Decor',\n",
       " 'Home Decor',\n",
       " 'Home Decor',\n",
       " 'Art & Sculpture',\n",
       " 'Kids',\n",
       " 'Basket',\n",
       " 'Art & Sculpture',\n",
       " 'Jewelry',\n",
       " 'Basket',\n",
       " 'Art & Sculpture',\n",
       " 'Jewelry',\n",
       " 'Jewelry',\n",
       " 'Art & Sculpture',\n",
       " 'One-of-a-Kind',\n",
       " 'One-of-a-Kind',\n",
       " 'Art & Sculpture',\n",
       " 'Kitchen',\n",
       " 'Art & Sculpture',\n",
       " 'Home Decor',\n",
       " 'Basket',\n",
       " 'Jewelry',\n",
       " 'Basket',\n",
       " 'Art & Sculpture',\n",
       " 'Kitchen',\n",
       " 'Art & Sculpture',\n",
       " 'Art & Sculpture',\n",
       " 'Kitchen',\n",
       " 'Furniture',\n",
       " 'Home Decor',\n",
       " 'Basket',\n",
       " 'Recycled Art',\n",
       " 'Basket',\n",
       " 'Basket',\n",
       " 'Basket',\n",
       " 'Recycled Art',\n",
       " 'Basket',\n",
       " 'Basket',\n",
       " 'Jewelry',\n",
       " 'Basket',\n",
       " 'Accessories',\n",
       " 'Basket',\n",
       " 'Jewelry',\n",
       " 'Art & Sculpture',\n",
       " 'Basket',\n",
       " 'Basket',\n",
       " 'Art & Sculpture',\n",
       " 'Basket',\n",
       " 'Art & Sculpture',\n",
       " 'Kitchen',\n",
       " 'Kitchen',\n",
       " 'Fair Trade Gifts',\n",
       " 'Art & Sculpture',\n",
       " 'Fair Trade Gifts',\n",
       " 'Furniture',\n",
       " 'Art & Sculpture',\n",
       " 'Basket',\n",
       " 'Basket',\n",
       " 'Basket',\n",
       " 'Basket',\n",
       " 'Kitchen',\n",
       " 'Basket',\n",
       " 'Jewelry',\n",
       " 'Basket',\n",
       " 'Christmas',\n",
       " 'Jewelry',\n",
       " 'Kitchen',\n",
       " 'Accessories',\n",
       " 'Art & Sculpture',\n",
       " 'Music',\n",
       " 'Home Decor',\n",
       " 'Jewelry',\n",
       " 'Art & Sculpture',\n",
       " 'Home Decor',\n",
       " 'Basket',\n",
       " 'Jewelry',\n",
       " 'Recycled Art',\n",
       " 'Basket',\n",
       " 'Basket',\n",
       " 'Basket',\n",
       " 'Basket',\n",
       " 'Basket',\n",
       " 'Basket',\n",
       " 'Basket',\n",
       " 'Basket',\n",
       " 'Basket',\n",
       " 'Furniture',\n",
       " 'Soapstone',\n",
       " 'Basket',\n",
       " 'Basket',\n",
       " 'Basket',\n",
       " 'Soapstone',\n",
       " 'Home Decor',\n",
       " 'Kitchen',\n",
       " 'Kitchen',\n",
       " 'Christmas',\n",
       " 'Jewelry',\n",
       " 'Basket',\n",
       " 'Kitchen',\n",
       " 'Christmas',\n",
       " 'Basket',\n",
       " 'Basket',\n",
       " 'Christmas',\n",
       " 'Basket',\n",
       " 'Christmas',\n",
       " 'Basket',\n",
       " 'Basket',\n",
       " 'Basket',\n",
       " 'Basket',\n",
       " 'Basket',\n",
       " 'Kitchen',\n",
       " 'Accessories',\n",
       " 'Accessories',\n",
       " 'Kitchen',\n",
       " 'Jewelry',\n",
       " 'Textiles',\n",
       " 'Jewelry',\n",
       " 'Kitchen',\n",
       " 'Home Decor',\n",
       " 'Art & Sculpture',\n",
       " 'Kitchen',\n",
       " 'Recycled Art',\n",
       " 'Basket',\n",
       " 'Art & Sculpture',\n",
       " 'Basket',\n",
       " 'Music',\n",
       " 'Recycled Art',\n",
       " 'Basket',\n",
       " 'Home Decor',\n",
       " 'Kids',\n",
       " 'Basket',\n",
       " 'Basket',\n",
       " 'Kitchen',\n",
       " 'Accessories',\n",
       " 'Jewelry',\n",
       " 'Accessories',\n",
       " 'Basket',\n",
       " 'Jewelry',\n",
       " 'Kids',\n",
       " 'Kitchen',\n",
       " 'Art & Sculpture',\n",
       " 'Jewelry',\n",
       " 'Basket',\n",
       " 'Basket',\n",
       " 'Basket',\n",
       " 'Basket',\n",
       " 'Basket',\n",
       " 'Christmas',\n",
       " 'Jewelry',\n",
       " 'Furniture',\n",
       " 'Accessories',\n",
       " 'Home Decor',\n",
       " 'Basket',\n",
       " 'Art & Sculpture',\n",
       " 'Basket',\n",
       " 'Art & Sculpture',\n",
       " 'Basket',\n",
       " 'Art & Sculpture',\n",
       " 'Basket',\n",
       " 'Jewelry',\n",
       " 'Art & Sculpture',\n",
       " 'Kids',\n",
       " 'Jewelry',\n",
       " 'Basket',\n",
       " 'Kitchen',\n",
       " 'Art & Sculpture',\n",
       " 'Art & Sculpture',\n",
       " 'Basket',\n",
       " 'Basket',\n",
       " 'Art & Sculpture',\n",
       " 'Basket',\n",
       " 'Home Decor',\n",
       " 'Basket',\n",
       " 'Basket',\n",
       " 'Kitchen',\n",
       " 'Soapstone',\n",
       " 'Jewelry',\n",
       " 'Basket',\n",
       " 'Art & Sculpture',\n",
       " 'Basket',\n",
       " 'Jewelry',\n",
       " 'Skin Care',\n",
       " 'Kitchen',\n",
       " 'Christmas',\n",
       " 'Art & Sculpture',\n",
       " 'Furniture',\n",
       " 'Art & Sculpture',\n",
       " 'Art & Sculpture',\n",
       " 'Soapstone',\n",
       " 'Art & Sculpture',\n",
       " 'Fair Trade Gifts',\n",
       " 'Basket',\n",
       " 'Kids',\n",
       " 'Kitchen',\n",
       " 'Art & Sculpture',\n",
       " 'Basket',\n",
       " 'Recycled Art',\n",
       " 'Art & Sculpture',\n",
       " 'Basket',\n",
       " 'Art & Sculpture',\n",
       " 'Art & Sculpture',\n",
       " 'Accessories',\n",
       " 'Art & Sculpture',\n",
       " 'Kitchen',\n",
       " 'Art & Sculpture',\n",
       " 'Art & Sculpture',\n",
       " 'Basket',\n",
       " 'Basket',\n",
       " 'Home Decor',\n",
       " 'Accessories',\n",
       " 'Home Decor',\n",
       " 'Kitchen',\n",
       " 'Basket',\n",
       " 'Textiles',\n",
       " 'Basket',\n",
       " 'Jewelry',\n",
       " 'Kitchen',\n",
       " 'Art & Sculpture',\n",
       " 'Basket',\n",
       " 'Furniture',\n",
       " 'Soapstone',\n",
       " 'Art & Sculpture',\n",
       " 'Christmas',\n",
       " 'Kitchen',\n",
       " 'Basket',\n",
       " 'Christmas',\n",
       " 'Art & Sculpture',\n",
       " 'Basket',\n",
       " 'Jewelry',\n",
       " 'Home Decor',\n",
       " 'Home Decor',\n",
       " 'Jewelry',\n",
       " 'Home Decor',\n",
       " 'Jewelry',\n",
       " 'Basket',\n",
       " 'Basket',\n",
       " 'Home Decor',\n",
       " 'Home Decor',\n",
       " 'Kitchen',\n",
       " 'Basket',\n",
       " 'Textiles',\n",
       " 'Art & Sculpture',\n",
       " 'Christmas',\n",
       " 'Jewelry',\n",
       " 'Basket',\n",
       " 'Kitchen',\n",
       " 'Jewelry',\n",
       " 'Textiles',\n",
       " 'Kitchen',\n",
       " 'Basket',\n",
       " 'Kitchen',\n",
       " 'Home Decor',\n",
       " 'Home Decor',\n",
       " 'Kids',\n",
       " 'Basket',\n",
       " 'Art & Sculpture',\n",
       " 'Kitchen',\n",
       " 'Kitchen',\n",
       " 'Jewelry',\n",
       " 'Kitchen',\n",
       " 'Soapstone',\n",
       " 'Kitchen',\n",
       " 'Jewelry',\n",
       " 'Accessories',\n",
       " 'Home Decor',\n",
       " 'Kitchen',\n",
       " 'Soapstone',\n",
       " 'Art & Sculpture',\n",
       " 'Jewelry',\n",
       " ...]"
      ]
     },
     "execution_count": 6,
     "metadata": {},
     "output_type": "execute_result"
    }
   ],
   "source": [
    "sales_df['Product Type'].values.tolist()"
   ]
  },
  {
   "cell_type": "code",
   "execution_count": 7,
   "id": "39b19954",
   "metadata": {},
   "outputs": [
    {
     "data": {
      "text/plain": [
       "0.4507042253521127"
      ]
     },
     "execution_count": 7,
     "metadata": {},
     "output_type": "execute_result"
    }
   ],
   "source": [
    "# sales with nulls makes up less than 1% of sales, so we can drop these rows\n",
    "num_null = sales_df.isnull().sum().tolist()[0]\n",
    "percent_null = num_null / len(sales_df) * 100\n",
    "percent_null"
   ]
  },
  {
   "cell_type": "code",
   "execution_count": 8,
   "id": "aa01efa4",
   "metadata": {},
   "outputs": [
    {
     "data": {
      "text/plain": [
       "Product Type       0\n",
       "Net Quantity       0\n",
       "Gross Sales        0\n",
       "Discounts          0\n",
       "Returns            0\n",
       "Total Net Sales    0\n",
       "dtype: int64"
      ]
     },
     "execution_count": 8,
     "metadata": {},
     "output_type": "execute_result"
    }
   ],
   "source": [
    "sales_df = sales_df.dropna()\n",
    "sales_df.isnull().sum()"
   ]
  },
  {
   "cell_type": "code",
   "execution_count": 9,
   "id": "c128d9bd",
   "metadata": {},
   "outputs": [],
   "source": [
    "sum_sales = sales_df.groupby('Product Type').sum()"
   ]
  },
  {
   "cell_type": "code",
   "execution_count": 10,
   "id": "8ec51413",
   "metadata": {},
   "outputs": [],
   "source": [
    "product_list = sum_sales.index.tolist()\n",
    "sum_products_sold = sum_sales['Net Quantity']"
   ]
  },
  {
   "cell_type": "code",
   "execution_count": 11,
   "id": "e769e17a",
   "metadata": {},
   "outputs": [
    {
     "data": {
      "text/plain": [
       "([0, 1, 2, 3, 4, 5, 6, 7, 8, 9, 10, 11, 12, 13, 14, 15, 16, 17],\n",
       " [Text(0, 0, ''),\n",
       "  Text(0, 0, ''),\n",
       "  Text(0, 0, ''),\n",
       "  Text(0, 0, ''),\n",
       "  Text(0, 0, ''),\n",
       "  Text(0, 0, ''),\n",
       "  Text(0, 0, ''),\n",
       "  Text(0, 0, ''),\n",
       "  Text(0, 0, ''),\n",
       "  Text(0, 0, ''),\n",
       "  Text(0, 0, ''),\n",
       "  Text(0, 0, ''),\n",
       "  Text(0, 0, ''),\n",
       "  Text(0, 0, ''),\n",
       "  Text(0, 0, ''),\n",
       "  Text(0, 0, ''),\n",
       "  Text(0, 0, ''),\n",
       "  Text(0, 0, '')])"
      ]
     },
     "execution_count": 11,
     "metadata": {},
     "output_type": "execute_result"
    },
    {
     "data": {
      "image/png": "[encoded data removed]",
      "text/plain": [
       "<Figure size 432x288 with 1 Axes>"
      ]
     },
     "metadata": {
      "needs_background": "light"
     },
     "output_type": "display_data"
    }
   ],
   "source": [
    "plt.bar(product_list, sum_products_sold)\n",
    "plt.xticks(rotation = 80)"
   ]
  },
  {
   "cell_type": "code",
   "execution_count": 12,
   "id": "5f94e698",
   "metadata": {},
   "outputs": [
    {
     "data": {
      "text/plain": [
       "([0, 1, 2, 3, 4, 5, 6, 7, 8, 9, 10, 11, 12, 13, 14, 15, 16, 17],\n",
       " [Text(0, 0, ''),\n",
       "  Text(0, 0, ''),\n",
       "  Text(0, 0, ''),\n",
       "  Text(0, 0, ''),\n",
       "  Text(0, 0, ''),\n",
       "  Text(0, 0, ''),\n",
       "  Text(0, 0, ''),\n",
       "  Text(0, 0, ''),\n",
       "  Text(0, 0, ''),\n",
       "  Text(0, 0, ''),\n",
       "  Text(0, 0, ''),\n",
       "  Text(0, 0, ''),\n",
       "  Text(0, 0, ''),\n",
       "  Text(0, 0, ''),\n",
       "  Text(0, 0, ''),\n",
       "  Text(0, 0, ''),\n",
       "  Text(0, 0, ''),\n",
       "  Text(0, 0, '')])"
      ]
     },
     "execution_count": 12,
     "metadata": {},
     "output_type": "execute_result"
    },
    {
     "data": {
      "image/png": "[encoded data removed]",
      "text/plain": [
       "<Figure size 432x288 with 1 Axes>"
      ]
     },
     "metadata": {
      "needs_background": "light"
     },
     "output_type": "display_data"
    }
   ],
   "source": [
    "returns_by_product = sum_sales['Returns'] * -1\n",
    "plt.bar(product_list, returns_by_product)\n",
    "plt.xticks(rotation = 80)"
   ]
  },
  {
   "cell_type": "code",
   "execution_count": 13,
   "id": "7d904c0b",
   "metadata": {},
   "outputs": [
    {
     "data": {
      "text/plain": [
       "([0, 1, 2, 3, 4, 5, 6, 7, 8, 9, 10, 11, 12, 13, 14, 15, 16, 17],\n",
       " [Text(0, 0, ''),\n",
       "  Text(0, 0, ''),\n",
       "  Text(0, 0, ''),\n",
       "  Text(0, 0, ''),\n",
       "  Text(0, 0, ''),\n",
       "  Text(0, 0, ''),\n",
       "  Text(0, 0, ''),\n",
       "  Text(0, 0, ''),\n",
       "  Text(0, 0, ''),\n",
       "  Text(0, 0, ''),\n",
       "  Text(0, 0, ''),\n",
       "  Text(0, 0, ''),\n",
       "  Text(0, 0, ''),\n",
       "  Text(0, 0, ''),\n",
       "  Text(0, 0, ''),\n",
       "  Text(0, 0, ''),\n",
       "  Text(0, 0, ''),\n",
       "  Text(0, 0, '')])"
      ]
     },
     "execution_count": 13,
     "metadata": {},
     "output_type": "execute_result"
    },
    {
     "data": {
      "image/png": "[encoded data removed]",
      "text/plain": [
       "<Figure size 432x288 with 1 Axes>"
      ]
     },
     "metadata": {
      "needs_background": "light"
     },
     "output_type": "display_data"
    }
   ],
   "source": [
    "discount_by_product = sum_sales['Discounts'] * -1\n",
    "plt.bar(product_list, discount_by_product)\n",
    "plt.xticks(rotation = 80)"
   ]
  },
  {
   "cell_type": "code",
   "execution_count": 14,
   "id": "9fa667f3",
   "metadata": {},
   "outputs": [
    {
     "data": {
      "text/html": [
       "<div>\n",
       "<style scoped>\n",
       "    .dataframe tbody tr th:only-of-type {\n",
       "        vertical-align: middle;\n",
       "    }\n",
       "\n",
       "    .dataframe tbody tr th {\n",
       "        vertical-align: top;\n",
       "    }\n",
       "\n",
       "    .dataframe thead th {\n",
       "        text-align: right;\n",
       "    }\n",
       "</style>\n",
       "<table border=\"1\" class=\"dataframe\">\n",
       "  <thead>\n",
       "    <tr style=\"text-align: right;\">\n",
       "      <th></th>\n",
       "      <th>Month</th>\n",
       "      <th>Year</th>\n",
       "      <th>Total Orders</th>\n",
       "      <th>Gross Sales</th>\n",
       "      <th>Discounts</th>\n",
       "      <th>Returns</th>\n",
       "      <th>Net Sales</th>\n",
       "      <th>Shipping</th>\n",
       "      <th>Total Sales</th>\n",
       "    </tr>\n",
       "  </thead>\n",
       "  <tbody>\n",
       "    <tr>\n",
       "      <th>0</th>\n",
       "      <td>January</td>\n",
       "      <td>2017</td>\n",
       "      <td>73</td>\n",
       "      <td>8861.5</td>\n",
       "      <td>-129.40</td>\n",
       "      <td>-448.45</td>\n",
       "      <td>8283.65</td>\n",
       "      <td>1088.30</td>\n",
       "      <td>9371.95</td>\n",
       "    </tr>\n",
       "    <tr>\n",
       "      <th>1</th>\n",
       "      <td>February</td>\n",
       "      <td>2017</td>\n",
       "      <td>56</td>\n",
       "      <td>6908.5</td>\n",
       "      <td>-104.70</td>\n",
       "      <td>-416.20</td>\n",
       "      <td>6387.60</td>\n",
       "      <td>892.45</td>\n",
       "      <td>7280.05</td>\n",
       "    </tr>\n",
       "    <tr>\n",
       "      <th>2</th>\n",
       "      <td>March</td>\n",
       "      <td>2017</td>\n",
       "      <td>60</td>\n",
       "      <td>5778.5</td>\n",
       "      <td>-172.20</td>\n",
       "      <td>-1017.20</td>\n",
       "      <td>4589.10</td>\n",
       "      <td>707.43</td>\n",
       "      <td>5296.53</td>\n",
       "    </tr>\n",
       "    <tr>\n",
       "      <th>3</th>\n",
       "      <td>April</td>\n",
       "      <td>2017</td>\n",
       "      <td>70</td>\n",
       "      <td>8814.0</td>\n",
       "      <td>-281.40</td>\n",
       "      <td>0.00</td>\n",
       "      <td>8532.60</td>\n",
       "      <td>1068.30</td>\n",
       "      <td>9600.90</td>\n",
       "    </tr>\n",
       "    <tr>\n",
       "      <th>4</th>\n",
       "      <td>May</td>\n",
       "      <td>2017</td>\n",
       "      <td>54</td>\n",
       "      <td>6677.0</td>\n",
       "      <td>-185.75</td>\n",
       "      <td>-253.80</td>\n",
       "      <td>6237.45</td>\n",
       "      <td>866.46</td>\n",
       "      <td>7103.91</td>\n",
       "    </tr>\n",
       "  </tbody>\n",
       "</table>\n",
       "</div>"
      ],
      "text/plain": [
       "      Month  Year  Total Orders  Gross Sales  Discounts  Returns  Net Sales  \\\n",
       "0   January  2017            73       8861.5    -129.40  -448.45    8283.65   \n",
       "1  February  2017            56       6908.5    -104.70  -416.20    6387.60   \n",
       "2     March  2017            60       5778.5    -172.20 -1017.20    4589.10   \n",
       "3     April  2017            70       8814.0    -281.40     0.00    8532.60   \n",
       "4       May  2017            54       6677.0    -185.75  -253.80    6237.45   \n",
       "\n",
       "   Shipping  Total Sales  \n",
       "0   1088.30      9371.95  \n",
       "1    892.45      7280.05  \n",
       "2    707.43      5296.53  \n",
       "3   1068.30      9600.90  \n",
       "4    866.46      7103.91  "
      ]
     },
     "execution_count": 14,
     "metadata": {},
     "output_type": "execute_result"
    }
   ],
   "source": [
    "monthly_sales_df.head()"
   ]
  },
  {
   "cell_type": "code",
   "execution_count": 15,
   "id": "7d9bf93a",
   "metadata": {},
   "outputs": [
    {
     "data": {
      "text/plain": [
       "Month           0\n",
       "Year            0\n",
       "Total Orders    0\n",
       "Gross Sales     0\n",
       "Discounts       0\n",
       "Returns         0\n",
       "Net Sales       0\n",
       "Shipping        0\n",
       "Total Sales     0\n",
       "dtype: int64"
      ]
     },
     "execution_count": 15,
     "metadata": {},
     "output_type": "execute_result"
    }
   ],
   "source": [
    "# data is clean\n",
    "monthly_sales_df.isnull().sum()"
   ]
  },
  {
   "cell_type": "code",
   "execution_count": 16,
   "id": "5d2b3b93",
   "metadata": {},
   "outputs": [
    {
     "data": {
      "text/plain": [
       "0       January 2017\n",
       "1      February 2017\n",
       "2         March 2017\n",
       "3         April 2017\n",
       "4           May 2017\n",
       "5          June 2017\n",
       "6          July 2017\n",
       "7        August 2017\n",
       "8     September 2017\n",
       "9       October 2017\n",
       "10     November 2017\n",
       "11     December 2017\n",
       "12      January 2018\n",
       "13     February 2018\n",
       "14        March 2018\n",
       "15        April 2018\n",
       "16          May 2018\n",
       "17         June 2018\n",
       "18         July 2018\n",
       "19       August 2018\n",
       "20    September 2018\n",
       "21      October 2018\n",
       "22     November 2018\n",
       "23     December 2018\n",
       "24      January 2019\n",
       "25     February 2019\n",
       "26        March 2019\n",
       "27        April 2019\n",
       "28          May 2019\n",
       "29         June 2019\n",
       "30         July 2019\n",
       "31       August 2019\n",
       "32    September 2019\n",
       "33      October 2019\n",
       "34     November 2019\n",
       "35     December 2019\n",
       "Name: Month-Year, dtype: object"
      ]
     },
     "execution_count": 16,
     "metadata": {},
     "output_type": "execute_result"
    }
   ],
   "source": [
    "monthly_sales_df['Month-Year'] = monthly_sales_df['Month'] + ' ' + monthly_sales_df['Year'].astype(str)\n",
    "monthly_sales_df['Month-Year'] "
   ]
  },
  {
   "cell_type": "code",
   "execution_count": 17,
   "id": "3fdec700",
   "metadata": {},
   "outputs": [
    {
     "name": "stdout",
     "output_type": "stream",
     "text": [
      "2017-01-01 00:00:00\n"
     ]
    }
   ],
   "source": [
    "s = monthly_sales_df['Month-Year'][0]\n",
    "_format = \"%B %Y\"\n",
    "date = datetime.strptime(s,_format) \n",
    "print(date)"
   ]
  },
  {
   "cell_type": "code",
   "execution_count": 18,
   "id": "0d718cb9",
   "metadata": {},
   "outputs": [
    {
     "data": {
      "text/plain": [
       "0   2017-01-01\n",
       "1   2017-02-01\n",
       "2   2017-03-01\n",
       "3   2017-04-01\n",
       "4   2017-05-01\n",
       "Name: Month-Year, dtype: datetime64[ns]"
      ]
     },
     "execution_count": 18,
     "metadata": {},
     "output_type": "execute_result"
    }
   ],
   "source": [
    "monty_year_series = monthly_sales_df['Month-Year'].apply(lambda x: datetime.strptime(x,_format))\n",
    "monthly_sales_df['Month-Year'] = monty_year_series\n",
    "monthly_sales_df['Month-Year'].head()"
   ]
  },
  {
   "cell_type": "code",
   "execution_count": 19,
   "id": "83ff4f04",
   "metadata": {},
   "outputs": [
    {
     "data": {
      "text/plain": [
       "Month                   object\n",
       "Year                     int64\n",
       "Total Orders             int64\n",
       "Gross Sales            float64\n",
       "Discounts              float64\n",
       "Returns                float64\n",
       "Net Sales              float64\n",
       "Shipping               float64\n",
       "Total Sales            float64\n",
       "Month-Year      datetime64[ns]\n",
       "dtype: object"
      ]
     },
     "execution_count": 19,
     "metadata": {},
     "output_type": "execute_result"
    }
   ],
   "source": [
    "monthly_sales_df.dtypes"
   ]
  },
  {
   "cell_type": "code",
   "execution_count": 20,
   "id": "395ef861",
   "metadata": {},
   "outputs": [],
   "source": [
    "monthly_sales_df['Net Loss'] = 100 - (monthly_sales_df['Total Sales'] / ((monthly_sales_df['Total Sales'] - monthly_sales_df['Discounts'] - monthly_sales_df['Returns'])) * 100)\n",
    "monthly_sales_df['Net Loss'] = monthly_sales_df['Net Loss'].apply(lambda x: round(x, 0))"
   ]
  },
  {
   "cell_type": "code",
   "execution_count": 21,
   "id": "51917847",
   "metadata": {},
   "outputs": [
    {
     "data": {
      "text/plain": [
       "(array([17167., 17287., 17410., 17532., 17652., 17775., 17897., 18017.,\n",
       "        18140., 18262.]),\n",
       " [Text(0, 0, ''),\n",
       "  Text(0, 0, ''),\n",
       "  Text(0, 0, ''),\n",
       "  Text(0, 0, ''),\n",
       "  Text(0, 0, ''),\n",
       "  Text(0, 0, ''),\n",
       "  Text(0, 0, ''),\n",
       "  Text(0, 0, ''),\n",
       "  Text(0, 0, ''),\n",
       "  Text(0, 0, '')])"
      ]
     },
     "execution_count": 21,
     "metadata": {},
     "output_type": "execute_result"
    },
    {
     "data": {
      "image/png": "[encoded data removed]",
      "text/plain": [
       "<Figure size 432x288 with 1 Axes>"
      ]
     },
     "metadata": {
      "needs_background": "light"
     },
     "output_type": "display_data"
    }
   ],
   "source": [
    "plt.plot(monthly_sales_df['Month-Year'],monthly_sales_df['Net Loss'])\n",
    "plt.xticks(rotation = 50)"
   ]
  },
  {
   "cell_type": "code",
   "execution_count": null,
   "id": "3d638062",
   "metadata": {},
   "outputs": [],
   "source": []
  },
  {
   "cell_type": "code",
   "execution_count": null,
   "id": "97aca77c",
   "metadata": {},
   "outputs": [],
   "source": []
  },
  {
   "cell_type": "code",
   "execution_count": 22,
   "id": "e7649c41",
   "metadata": {},
   "outputs": [
    {
     "data": {
      "text/plain": [
       "(array([17167., 17287., 17410., 17532., 17652., 17775., 17897., 18017.,\n",
       "        18140., 18262.]),\n",
       " [Text(0, 0, ''),\n",
       "  Text(0, 0, ''),\n",
       "  Text(0, 0, ''),\n",
       "  Text(0, 0, ''),\n",
       "  Text(0, 0, ''),\n",
       "  Text(0, 0, ''),\n",
       "  Text(0, 0, ''),\n",
       "  Text(0, 0, ''),\n",
       "  Text(0, 0, ''),\n",
       "  Text(0, 0, '')])"
      ]
     },
     "execution_count": 22,
     "metadata": {},
     "output_type": "execute_result"
    },
    {
     "data": {
      "image/png": "[encoded data removed]",
      "text/plain": [
       "<Figure size 432x288 with 1 Axes>"
      ]
     },
     "metadata": {
      "needs_background": "light"
     },
     "output_type": "display_data"
    }
   ],
   "source": [
    "plt.plot(monthly_sales_df['Month-Year'], monthly_sales_df['Total Sales'])\n",
    "plt.xticks(rotation = 50)\n"
   ]
  },
  {
   "cell_type": "code",
   "execution_count": 23,
   "id": "9ac2c2c2",
   "metadata": {},
   "outputs": [
    {
     "data": {
      "text/html": [
       "<div>\n",
       "<style scoped>\n",
       "    .dataframe tbody tr th:only-of-type {\n",
       "        vertical-align: middle;\n",
       "    }\n",
       "\n",
       "    .dataframe tbody tr th {\n",
       "        vertical-align: top;\n",
       "    }\n",
       "\n",
       "    .dataframe thead th {\n",
       "        text-align: right;\n",
       "    }\n",
       "</style>\n",
       "<table border=\"1\" class=\"dataframe\">\n",
       "  <thead>\n",
       "    <tr style=\"text-align: right;\">\n",
       "      <th></th>\n",
       "      <th>Total Orders</th>\n",
       "      <th>Gross Sales</th>\n",
       "      <th>Discounts</th>\n",
       "      <th>Returns</th>\n",
       "      <th>Net Sales</th>\n",
       "      <th>Shipping</th>\n",
       "      <th>Total Sales</th>\n",
       "      <th>Net Loss</th>\n",
       "    </tr>\n",
       "    <tr>\n",
       "      <th>Year</th>\n",
       "      <th></th>\n",
       "      <th></th>\n",
       "      <th></th>\n",
       "      <th></th>\n",
       "      <th></th>\n",
       "      <th></th>\n",
       "      <th></th>\n",
       "      <th></th>\n",
       "    </tr>\n",
       "  </thead>\n",
       "  <tbody>\n",
       "    <tr>\n",
       "      <th>2017</th>\n",
       "      <td>836</td>\n",
       "      <td>97342.05</td>\n",
       "      <td>-1849.15</td>\n",
       "      <td>-3972.40</td>\n",
       "      <td>91520.50</td>\n",
       "      <td>11976.77</td>\n",
       "      <td>103497.27</td>\n",
       "      <td>70.0</td>\n",
       "    </tr>\n",
       "    <tr>\n",
       "      <th>2018</th>\n",
       "      <td>1141</td>\n",
       "      <td>113313.15</td>\n",
       "      <td>-3112.39</td>\n",
       "      <td>-5412.58</td>\n",
       "      <td>104788.18</td>\n",
       "      <td>18780.10</td>\n",
       "      <td>123568.28</td>\n",
       "      <td>77.0</td>\n",
       "    </tr>\n",
       "    <tr>\n",
       "      <th>2019</th>\n",
       "      <td>1520</td>\n",
       "      <td>143762.15</td>\n",
       "      <td>-6252.24</td>\n",
       "      <td>-7713.51</td>\n",
       "      <td>129796.40</td>\n",
       "      <td>26101.23</td>\n",
       "      <td>155900.33</td>\n",
       "      <td>100.0</td>\n",
       "    </tr>\n",
       "  </tbody>\n",
       "</table>\n",
       "</div>"
      ],
      "text/plain": [
       "      Total Orders  Gross Sales  Discounts  Returns  Net Sales  Shipping  \\\n",
       "Year                                                                       \n",
       "2017           836     97342.05   -1849.15 -3972.40   91520.50  11976.77   \n",
       "2018          1141    113313.15   -3112.39 -5412.58  104788.18  18780.10   \n",
       "2019          1520    143762.15   -6252.24 -7713.51  129796.40  26101.23   \n",
       "\n",
       "      Total Sales  Net Loss  \n",
       "Year                         \n",
       "2017    103497.27      70.0  \n",
       "2018    123568.28      77.0  \n",
       "2019    155900.33     100.0  "
      ]
     },
     "execution_count": 23,
     "metadata": {},
     "output_type": "execute_result"
    }
   ],
   "source": [
    "monthly_sales_df.groupby('Year').sum()"
   ]
  },
  {
   "cell_type": "code",
   "execution_count": 24,
   "id": "d160e820",
   "metadata": {},
   "outputs": [
    {
     "data": {
      "text/plain": [
       "[2017, 2018, 2019]"
      ]
     },
     "execution_count": 24,
     "metadata": {},
     "output_type": "execute_result"
    }
   ],
   "source": [
    "years = monthly_sales_df.groupby('Year').sum().index.tolist()\n",
    "years"
   ]
  },
  {
   "cell_type": "code",
   "execution_count": 25,
   "id": "bb021b55",
   "metadata": {},
   "outputs": [
    {
     "data": {
      "text/plain": [
       "[103497.27, 123568.28, 155900.33000000002]"
      ]
     },
     "execution_count": 25,
     "metadata": {},
     "output_type": "execute_result"
    }
   ],
   "source": [
    "tot_annual_sales = monthly_sales_df.groupby('Year').sum()['Total Sales'].values.tolist()\n",
    "tot_annual_sales"
   ]
  },
  {
   "cell_type": "code",
   "execution_count": 26,
   "id": "4d035760",
   "metadata": {},
   "outputs": [
    {
     "data": {
      "text/plain": [
       "([<matplotlib.axis.XTick at 0x7f9d8f3e65d0>,\n",
       "  <matplotlib.axis.XTick at 0x7f9d8f3ff490>,\n",
       "  <matplotlib.axis.XTick at 0x7f9d8f1eb790>],\n",
       " [Text(0, 0, ''), Text(0, 0, ''), Text(0, 0, '')])"
      ]
     },
     "execution_count": 26,
     "metadata": {},
     "output_type": "execute_result"
    },
    {
     "data": {
      "image/png": "[encoded data removed]",
      "text/plain": [
       "<Figure size 432x288 with 1 Axes>"
      ]
     },
     "metadata": {
      "needs_background": "light"
     },
     "output_type": "display_data"
    }
   ],
   "source": [
    "plt.plot(years, tot_annual_sales)\n",
    "plt.xticks(ticks = years)"
   ]
  },
  {
   "cell_type": "code",
   "execution_count": 27,
   "id": "63284781",
   "metadata": {},
   "outputs": [
    {
     "data": {
      "text/plain": [
       "([<matplotlib.axis.XTick at 0x7f9d8f525fd0>,\n",
       "  <matplotlib.axis.XTick at 0x7f9d8f52f250>,\n",
       "  <matplotlib.axis.XTick at 0x7f9d8f525850>],\n",
       " [Text(0, 0, ''), Text(0, 0, ''), Text(0, 0, '')])"
      ]
     },
     "execution_count": 27,
     "metadata": {},
     "output_type": "execute_result"
    },
    {
     "data": {
      "image/png": "[encoded data removed]",
      "text/plain": [
       "<Figure size 432x288 with 1 Axes>"
      ]
     },
     "metadata": {
      "needs_background": "light"
     },
     "output_type": "display_data"
    }
   ],
   "source": [
    "plt.bar(years, tot_annual_sales)\n",
    "plt.xticks(ticks=years)"
   ]
  },
  {
   "cell_type": "code",
   "execution_count": 28,
   "id": "66637a70",
   "metadata": {},
   "outputs": [],
   "source": [
    "year_2017 = monthly_sales_df.loc[monthly_sales_df['Year'] == 2017]\n",
    "year_2018 = monthly_sales_df.loc[monthly_sales_df['Year'] == 2018]\n",
    "year_2019 = monthly_sales_df.loc[monthly_sales_df['Year'] == 2019]"
   ]
  },
  {
   "cell_type": "code",
   "execution_count": 29,
   "id": "9f0159fd",
   "metadata": {},
   "outputs": [
    {
     "data": {
      "image/png": "[encoded data removed]",
      "text/plain": [
       "<Figure size 432x288 with 1 Axes>"
      ]
     },
     "metadata": {
      "needs_background": "light"
     },
     "output_type": "display_data"
    }
   ],
   "source": [
    "plt.plot(year_2017['Month'], year_2017['Total Sales'])\n",
    "plt.xticks(rotation=50)\n",
    "plt.show()"
   ]
  },
  {
   "cell_type": "code",
   "execution_count": 30,
   "id": "84e15786",
   "metadata": {},
   "outputs": [
    {
     "data": {
      "image/png": "[encoded data removed]",
      "text/plain": [
       "<Figure size 432x288 with 1 Axes>"
      ]
     },
     "metadata": {
      "needs_background": "light"
     },
     "output_type": "display_data"
    }
   ],
   "source": [
    "plt.plot(year_2018['Month'], year_2018['Total Sales'])\n",
    "plt.xticks(rotation=50)\n",
    "plt.show()"
   ]
  },
  {
   "cell_type": "code",
   "execution_count": 31,
   "id": "8dcbd557",
   "metadata": {},
   "outputs": [
    {
     "data": {
      "image/png": "[encoded data removed]",
      "text/plain": [
       "<Figure size 432x288 with 1 Axes>"
      ]
     },
     "metadata": {
      "needs_background": "light"
     },
     "output_type": "display_data"
    }
   ],
   "source": [
    "plt.plot(year_2019['Month'], year_2019['Total Sales'])\n",
    "plt.xticks(rotation=50)\n",
    "plt.show()"
   ]
  },
  {
   "cell_type": "code",
   "execution_count": 32,
   "id": "87b21399",
   "metadata": {},
   "outputs": [
    {
     "data": {
      "image/png": "[encoded data removed]",
      "text/plain": [
       "<Figure size 432x288 with 1 Axes>"
      ]
     },
     "metadata": {
      "needs_background": "light"
     },
     "output_type": "display_data"
    }
   ],
   "source": [
    "plt.plot(year_2017['Month'], year_2017['Total Orders'])\n",
    "plt.plot(year_2018['Month'], year_2018['Total Orders'])\n",
    "plt.plot(year_2019['Month'], year_2019['Total Orders'])\n",
    "plt.xticks(rotation=50)\n",
    "plt.show()"
   ]
  },
  {
   "cell_type": "code",
   "execution_count": 33,
   "id": "470c9668",
   "metadata": {},
   "outputs": [
    {
     "data": {
      "text/html": [
       "<div>\n",
       "<style scoped>\n",
       "    .dataframe tbody tr th:only-of-type {\n",
       "        vertical-align: middle;\n",
       "    }\n",
       "\n",
       "    .dataframe tbody tr th {\n",
       "        vertical-align: top;\n",
       "    }\n",
       "\n",
       "    .dataframe thead th {\n",
       "        text-align: right;\n",
       "    }\n",
       "</style>\n",
       "<table border=\"1\" class=\"dataframe\">\n",
       "  <thead>\n",
       "    <tr style=\"text-align: right;\">\n",
       "      <th></th>\n",
       "      <th>Year</th>\n",
       "      <th>Total Orders</th>\n",
       "      <th>Gross Sales</th>\n",
       "      <th>Discounts</th>\n",
       "      <th>Returns</th>\n",
       "      <th>Net Sales</th>\n",
       "      <th>Shipping</th>\n",
       "      <th>Total Sales</th>\n",
       "      <th>Net Loss</th>\n",
       "    </tr>\n",
       "    <tr>\n",
       "      <th>Month</th>\n",
       "      <th></th>\n",
       "      <th></th>\n",
       "      <th></th>\n",
       "      <th></th>\n",
       "      <th></th>\n",
       "      <th></th>\n",
       "      <th></th>\n",
       "      <th></th>\n",
       "      <th></th>\n",
       "    </tr>\n",
       "  </thead>\n",
       "  <tbody>\n",
       "    <tr>\n",
       "      <th>April</th>\n",
       "      <td>2018.0</td>\n",
       "      <td>81.000000</td>\n",
       "      <td>8399.116667</td>\n",
       "      <td>-266.360000</td>\n",
       "      <td>-16.666667</td>\n",
       "      <td>8116.090000</td>\n",
       "      <td>1266.103333</td>\n",
       "      <td>9382.193333</td>\n",
       "      <td>3.333333</td>\n",
       "    </tr>\n",
       "    <tr>\n",
       "      <th>August</th>\n",
       "      <td>2018.0</td>\n",
       "      <td>80.666667</td>\n",
       "      <td>8187.733333</td>\n",
       "      <td>-200.380000</td>\n",
       "      <td>-102.573333</td>\n",
       "      <td>7884.780000</td>\n",
       "      <td>1324.080000</td>\n",
       "      <td>9208.860000</td>\n",
       "      <td>3.333333</td>\n",
       "    </tr>\n",
       "    <tr>\n",
       "      <th>December</th>\n",
       "      <td>2018.0</td>\n",
       "      <td>207.333333</td>\n",
       "      <td>18407.816667</td>\n",
       "      <td>-930.186667</td>\n",
       "      <td>-884.576667</td>\n",
       "      <td>16593.053333</td>\n",
       "      <td>3198.766667</td>\n",
       "      <td>19791.820000</td>\n",
       "      <td>7.666667</td>\n",
       "    </tr>\n",
       "    <tr>\n",
       "      <th>February</th>\n",
       "      <td>2018.0</td>\n",
       "      <td>62.666667</td>\n",
       "      <td>6653.800000</td>\n",
       "      <td>-184.916667</td>\n",
       "      <td>-191.016667</td>\n",
       "      <td>6277.866667</td>\n",
       "      <td>974.403333</td>\n",
       "      <td>7252.270000</td>\n",
       "      <td>5.000000</td>\n",
       "    </tr>\n",
       "    <tr>\n",
       "      <th>January</th>\n",
       "      <td>2018.0</td>\n",
       "      <td>81.000000</td>\n",
       "      <td>8532.083333</td>\n",
       "      <td>-202.823333</td>\n",
       "      <td>-575.016667</td>\n",
       "      <td>7754.243333</td>\n",
       "      <td>1194.086667</td>\n",
       "      <td>8949.230000</td>\n",
       "      <td>8.333333</td>\n",
       "    </tr>\n",
       "    <tr>\n",
       "      <th>July</th>\n",
       "      <td>2018.0</td>\n",
       "      <td>87.333333</td>\n",
       "      <td>8498.050000</td>\n",
       "      <td>-245.480000</td>\n",
       "      <td>-689.310000</td>\n",
       "      <td>7563.260000</td>\n",
       "      <td>1355.263333</td>\n",
       "      <td>8918.523333</td>\n",
       "      <td>9.333333</td>\n",
       "    </tr>\n",
       "    <tr>\n",
       "      <th>June</th>\n",
       "      <td>2018.0</td>\n",
       "      <td>92.333333</td>\n",
       "      <td>10068.016667</td>\n",
       "      <td>-251.956667</td>\n",
       "      <td>-563.143333</td>\n",
       "      <td>9252.916667</td>\n",
       "      <td>1561.870000</td>\n",
       "      <td>10814.786667</td>\n",
       "      <td>6.000000</td>\n",
       "    </tr>\n",
       "    <tr>\n",
       "      <th>March</th>\n",
       "      <td>2018.0</td>\n",
       "      <td>74.333333</td>\n",
       "      <td>8765.566667</td>\n",
       "      <td>-279.623333</td>\n",
       "      <td>-669.000000</td>\n",
       "      <td>7816.943333</td>\n",
       "      <td>1349.816667</td>\n",
       "      <td>9166.760000</td>\n",
       "      <td>10.000000</td>\n",
       "    </tr>\n",
       "    <tr>\n",
       "      <th>May</th>\n",
       "      <td>2018.0</td>\n",
       "      <td>77.333333</td>\n",
       "      <td>8084.383333</td>\n",
       "      <td>-289.300000</td>\n",
       "      <td>-625.056667</td>\n",
       "      <td>7170.026667</td>\n",
       "      <td>1289.870000</td>\n",
       "      <td>8459.896667</td>\n",
       "      <td>10.000000</td>\n",
       "    </tr>\n",
       "    <tr>\n",
       "      <th>November</th>\n",
       "      <td>2018.0</td>\n",
       "      <td>167.666667</td>\n",
       "      <td>16341.866667</td>\n",
       "      <td>-440.863333</td>\n",
       "      <td>-280.920000</td>\n",
       "      <td>15620.083333</td>\n",
       "      <td>2872.300000</td>\n",
       "      <td>18492.383333</td>\n",
       "      <td>3.666667</td>\n",
       "    </tr>\n",
       "    <tr>\n",
       "      <th>October</th>\n",
       "      <td>2018.0</td>\n",
       "      <td>75.666667</td>\n",
       "      <td>7288.916667</td>\n",
       "      <td>-215.123333</td>\n",
       "      <td>-724.100000</td>\n",
       "      <td>6349.693333</td>\n",
       "      <td>1196.373333</td>\n",
       "      <td>7546.066667</td>\n",
       "      <td>10.000000</td>\n",
       "    </tr>\n",
       "    <tr>\n",
       "      <th>September</th>\n",
       "      <td>2018.0</td>\n",
       "      <td>78.333333</td>\n",
       "      <td>8911.766667</td>\n",
       "      <td>-230.913333</td>\n",
       "      <td>-378.116667</td>\n",
       "      <td>8302.736667</td>\n",
       "      <td>1369.766667</td>\n",
       "      <td>9672.503333</td>\n",
       "      <td>5.666667</td>\n",
       "    </tr>\n",
       "  </tbody>\n",
       "</table>\n",
       "</div>"
      ],
      "text/plain": [
       "             Year  Total Orders   Gross Sales   Discounts     Returns  \\\n",
       "Month                                                                   \n",
       "April      2018.0     81.000000   8399.116667 -266.360000  -16.666667   \n",
       "August     2018.0     80.666667   8187.733333 -200.380000 -102.573333   \n",
       "December   2018.0    207.333333  18407.816667 -930.186667 -884.576667   \n",
       "February   2018.0     62.666667   6653.800000 -184.916667 -191.016667   \n",
       "January    2018.0     81.000000   8532.083333 -202.823333 -575.016667   \n",
       "July       2018.0     87.333333   8498.050000 -245.480000 -689.310000   \n",
       "June       2018.0     92.333333  10068.016667 -251.956667 -563.143333   \n",
       "March      2018.0     74.333333   8765.566667 -279.623333 -669.000000   \n",
       "May        2018.0     77.333333   8084.383333 -289.300000 -625.056667   \n",
       "November   2018.0    167.666667  16341.866667 -440.863333 -280.920000   \n",
       "October    2018.0     75.666667   7288.916667 -215.123333 -724.100000   \n",
       "September  2018.0     78.333333   8911.766667 -230.913333 -378.116667   \n",
       "\n",
       "              Net Sales     Shipping   Total Sales   Net Loss  \n",
       "Month                                                          \n",
       "April       8116.090000  1266.103333   9382.193333   3.333333  \n",
       "August      7884.780000  1324.080000   9208.860000   3.333333  \n",
       "December   16593.053333  3198.766667  19791.820000   7.666667  \n",
       "February    6277.866667   974.403333   7252.270000   5.000000  \n",
       "January     7754.243333  1194.086667   8949.230000   8.333333  \n",
       "July        7563.260000  1355.263333   8918.523333   9.333333  \n",
       "June        9252.916667  1561.870000  10814.786667   6.000000  \n",
       "March       7816.943333  1349.816667   9166.760000  10.000000  \n",
       "May         7170.026667  1289.870000   8459.896667  10.000000  \n",
       "November   15620.083333  2872.300000  18492.383333   3.666667  \n",
       "October     6349.693333  1196.373333   7546.066667  10.000000  \n",
       "September   8302.736667  1369.766667   9672.503333   5.666667  "
      ]
     },
     "execution_count": 33,
     "metadata": {},
     "output_type": "execute_result"
    }
   ],
   "source": [
    "monthly_sales_df.groupby('Month').mean()"
   ]
  },
  {
   "cell_type": "code",
   "execution_count": 34,
   "id": "553b2e04",
   "metadata": {},
   "outputs": [
    {
     "data": {
      "text/plain": [
       "([0, 1, 2, 3, 4, 5, 6, 7, 8, 9, 10, 11],\n",
       " [Text(0, 0, ''),\n",
       "  Text(0, 0, ''),\n",
       "  Text(0, 0, ''),\n",
       "  Text(0, 0, ''),\n",
       "  Text(0, 0, ''),\n",
       "  Text(0, 0, ''),\n",
       "  Text(0, 0, ''),\n",
       "  Text(0, 0, ''),\n",
       "  Text(0, 0, ''),\n",
       "  Text(0, 0, ''),\n",
       "  Text(0, 0, ''),\n",
       "  Text(0, 0, '')])"
      ]
     },
     "execution_count": 34,
     "metadata": {},
     "output_type": "execute_result"
    },
    {
     "data": {
      "image/png": "[encoded data removed]",
      "text/plain": [
       "<Figure size 432x288 with 1 Axes>"
      ]
     },
     "metadata": {
      "needs_background": "light"
     },
     "output_type": "display_data"
    }
   ],
   "source": [
    "plt.plot(year_2017['Month'],monthly_sales_df['Net Loss'][0:12])\n",
    "plt.xticks(rotation = 50)\n"
   ]
  },
  {
   "cell_type": "code",
   "execution_count": 35,
   "id": "a695a6d7",
   "metadata": {},
   "outputs": [
    {
     "data": {
      "text/plain": [
       "([0, 1, 2, 3, 4, 5, 6, 7, 8, 9, 10, 11],\n",
       " [Text(0, 0, ''),\n",
       "  Text(0, 0, ''),\n",
       "  Text(0, 0, ''),\n",
       "  Text(0, 0, ''),\n",
       "  Text(0, 0, ''),\n",
       "  Text(0, 0, ''),\n",
       "  Text(0, 0, ''),\n",
       "  Text(0, 0, ''),\n",
       "  Text(0, 0, ''),\n",
       "  Text(0, 0, ''),\n",
       "  Text(0, 0, ''),\n",
       "  Text(0, 0, '')])"
      ]
     },
     "execution_count": 35,
     "metadata": {},
     "output_type": "execute_result"
    },
    {
     "data": {
      "image/png": "[encoded data removed]",
      "text/plain": [
       "<Figure size 432x288 with 1 Axes>"
      ]
     },
     "metadata": {
      "needs_background": "light"
     },
     "output_type": "display_data"
    }
   ],
   "source": [
    "plt.plot(year_2018['Month'],monthly_sales_df['Net Loss'][12:24])\n",
    "plt.xticks(rotation = 50)"
   ]
  },
  {
   "cell_type": "code",
   "execution_count": 36,
   "id": "60b99efc",
   "metadata": {},
   "outputs": [
    {
     "data": {
      "text/plain": [
       "([0, 1, 2, 3, 4, 5, 6, 7, 8, 9, 10, 11],\n",
       " [Text(0, 0, ''),\n",
       "  Text(0, 0, ''),\n",
       "  Text(0, 0, ''),\n",
       "  Text(0, 0, ''),\n",
       "  Text(0, 0, ''),\n",
       "  Text(0, 0, ''),\n",
       "  Text(0, 0, ''),\n",
       "  Text(0, 0, ''),\n",
       "  Text(0, 0, ''),\n",
       "  Text(0, 0, ''),\n",
       "  Text(0, 0, ''),\n",
       "  Text(0, 0, '')])"
      ]
     },
     "execution_count": 36,
     "metadata": {},
     "output_type": "execute_result"
    },
    {
     "data": {
      "image/png": "[encoded data removed]",
      "text/plain": [
       "<Figure size 432x288 with 1 Axes>"
      ]
     },
     "metadata": {
      "needs_background": "light"
     },
     "output_type": "display_data"
    }
   ],
   "source": [
    "plt.plot(year_2019['Month'],monthly_sales_df['Net Loss'][24:36])\n",
    "plt.xticks(rotation = 50)"
   ]
  },
  {
   "cell_type": "code",
   "execution_count": 37,
   "id": "556a2465",
   "metadata": {},
   "outputs": [
    {
     "name": "stdout",
     "output_type": "stream",
     "text": [
      "r value: 0.4681075137829214\n",
      "p_value: 0.003987827522090937\n"
     ]
    },
    {
     "data": {
      "image/png": "[encoded data removed]",
      "text/plain": [
       "<Figure size 432x288 with 1 Axes>"
      ]
     },
     "metadata": {
      "needs_background": "light"
     },
     "output_type": "display_data"
    }
   ],
   "source": [
    "(slope, intercept, r_value, p_value, std_err) = linregress(monthly_sales_df['Month-Year'].index.tolist(), monthly_sales_df['Total Sales'].values.tolist())\n",
    "line_eq = \"y = \" + str(round(slope,2)) + \"x + \" + str(round(intercept,2))\n",
    "regress_values = [(i * slope + intercept) for i in monthly_sales_df['Month-Year'].index.tolist()]\n",
    "plt.scatter(monthly_sales_df['Month-Year'].index, monthly_sales_df['Total Sales'])\n",
    "plt.plot(monthly_sales_df['Month-Year'].index.tolist(),regress_values,\"r\")\n",
    "plt.annotate(line_eq, (15, 20000), fontsize=15, color=\"red\")\n",
    "print(f\"r value: {r_value}\\np_value: {p_value}\")\n",
    "plt.show()"
   ]
  },
  {
   "cell_type": "code",
   "execution_count": 38,
   "id": "4c137c74",
   "metadata": {},
   "outputs": [
    {
     "name": "stdout",
     "output_type": "stream",
     "text": [
      "r value: 0.1832351861409427\n",
      "p_value: 0.28475425963814965\n"
     ]
    },
    {
     "data": {
      "image/png": "[encoded data removed]",
      "text/plain": [
       "<Figure size 432x288 with 1 Axes>"
      ]
     },
     "metadata": {
      "needs_background": "light"
     },
     "output_type": "display_data"
    }
   ],
   "source": [
    "(slope, intercept, r_value, p_value, std_err) = linregress(monthly_sales_df['Month-Year'].index.tolist(), monthly_sales_df['Net Loss'].values.tolist())\n",
    "line_eq = \"y = \" + str(round(slope,2)) + \"x + \" + str(round(intercept,2))\n",
    "regress_values = [(i * slope + intercept) for i in monthly_sales_df['Month-Year'].index.tolist()]\n",
    "plt.scatter(monthly_sales_df['Month-Year'].index, monthly_sales_df['Net Loss'])\n",
    "plt.plot(monthly_sales_df['Month-Year'].index.tolist(),regress_values,\"r\")\n",
    "plt.annotate(line_eq, (15, 14), fontsize=15, color=\"red\")\n",
    "print(f\"r value: {r_value}\\np_value: {p_value}\")\n",
    "plt.show()"
   ]
  },
  {
   "cell_type": "code",
   "execution_count": 39,
   "id": "a0ea8d4c",
   "metadata": {},
   "outputs": [
    {
     "name": "stdout",
     "output_type": "stream",
     "text": [
      "r value: 0.31834087431602653\n",
      "p_value: 6.622506603885945e-43\n"
     ]
    },
    {
     "data": {
      "image/png": "[encoded data removed]",
      "text/plain": [
       "<Figure size 432x288 with 1 Axes>"
      ]
     },
     "metadata": {
      "needs_background": "light"
     },
     "output_type": "display_data"
    }
   ],
   "source": [
    "(slope, intercept, r_value, p_value, std_err) = linregress((sales_df['Discounts']*-1).values.tolist(), sales_df['Net Quantity'].values.tolist())\n",
    "line_eq = \"y = \" + str(round(slope,2)) + \"x + \" + str(round(intercept,2))\n",
    "regress_values = [(i * slope + intercept) for i in (sales_df['Discounts']*-1).values.tolist()]\n",
    "plt.scatter((sales_df['Discounts']*-1) ,sales_df['Net Quantity'])\n",
    "plt.plot((sales_df['Discounts']*-1).values.tolist(),regress_values,\"r\")\n",
    "plt.annotate(line_eq, (200, 60), fontsize=15, color=\"red\")\n",
    "print(f\"r value: {r_value}\\np_value: {p_value}\")\n",
    "plt.show()"
   ]
  },
  {
   "cell_type": "code",
   "execution_count": 61,
   "id": "12d6beee",
   "metadata": {},
   "outputs": [
    {
     "name": "stdout",
     "output_type": "stream",
     "text": [
      "r value: 0.8387262146933888\n",
      "p_value: 0.0\n",
      "r^2: 0.7034616632139006\n"
     ]
    },
    {
     "data": {
      "image/png": "[encoded data removed]",
      "text/plain": [
       "<Figure size 432x288 with 1 Axes>"
      ]
     },
     "metadata": {
      "needs_background": "light"
     },
     "output_type": "display_data"
    }
   ],
   "source": [
    "(slope, intercept, r_value, p_value, std_err) = linregress((sales_df['Discounts']*-1).values.tolist(), sales_df['Total Net Sales'].values.tolist())\n",
    "line_eq = \"y = \" + str(round(slope,2)) + \"x + \" + str(round(intercept,2))\n",
    "regress_values = [(i * slope + intercept) for i in (sales_df['Discounts']*-1).values.tolist()]\n",
    "plt.scatter((sales_df['Discounts']*-1) ,sales_df['Total Net Sales'])\n",
    "plt.plot((sales_df['Discounts']*-1).values.tolist(),regress_values,\"r\")\n",
    "plt.annotate(line_eq, (200, 60), fontsize=15, color=\"red\")\n",
    "print(f\"r value: {r_value}\\np_value: {p_value}\\nr^2: {r_value * r_value}\")\n",
    "plt.show()"
   ]
  },
  {
   "cell_type": "code",
   "execution_count": 40,
   "id": "22c2d68e",
   "metadata": {},
   "outputs": [
    {
     "data": {
      "text/html": [
       "<div>\n",
       "<style scoped>\n",
       "    .dataframe tbody tr th:only-of-type {\n",
       "        vertical-align: middle;\n",
       "    }\n",
       "\n",
       "    .dataframe tbody tr th {\n",
       "        vertical-align: top;\n",
       "    }\n",
       "\n",
       "    .dataframe thead th {\n",
       "        text-align: right;\n",
       "    }\n",
       "</style>\n",
       "<table border=\"1\" class=\"dataframe\">\n",
       "  <thead>\n",
       "    <tr style=\"text-align: right;\">\n",
       "      <th></th>\n",
       "      <th>Product Type</th>\n",
       "      <th>Net Quantity</th>\n",
       "      <th>Gross Sales</th>\n",
       "      <th>Discounts</th>\n",
       "      <th>Returns</th>\n",
       "      <th>Total Net Sales</th>\n",
       "    </tr>\n",
       "  </thead>\n",
       "  <tbody>\n",
       "    <tr>\n",
       "      <th>0</th>\n",
       "      <td>Art &amp; Sculpture</td>\n",
       "      <td>34</td>\n",
       "      <td>14935.0</td>\n",
       "      <td>-594.00</td>\n",
       "      <td>-1609.00</td>\n",
       "      <td>12732.00</td>\n",
       "    </tr>\n",
       "    <tr>\n",
       "      <th>1</th>\n",
       "      <td>Basket</td>\n",
       "      <td>13</td>\n",
       "      <td>3744.0</td>\n",
       "      <td>-316.80</td>\n",
       "      <td>0.00</td>\n",
       "      <td>3427.20</td>\n",
       "    </tr>\n",
       "    <tr>\n",
       "      <th>2</th>\n",
       "      <td>Basket</td>\n",
       "      <td>12</td>\n",
       "      <td>3825.0</td>\n",
       "      <td>-201.60</td>\n",
       "      <td>-288.00</td>\n",
       "      <td>3335.40</td>\n",
       "    </tr>\n",
       "    <tr>\n",
       "      <th>3</th>\n",
       "      <td>Basket</td>\n",
       "      <td>17</td>\n",
       "      <td>3035.0</td>\n",
       "      <td>-63.25</td>\n",
       "      <td>0.00</td>\n",
       "      <td>2971.75</td>\n",
       "    </tr>\n",
       "    <tr>\n",
       "      <th>4</th>\n",
       "      <td>Art &amp; Sculpture</td>\n",
       "      <td>47</td>\n",
       "      <td>2696.8</td>\n",
       "      <td>-44.16</td>\n",
       "      <td>0.00</td>\n",
       "      <td>2652.64</td>\n",
       "    </tr>\n",
       "    <tr>\n",
       "      <th>...</th>\n",
       "      <td>...</td>\n",
       "      <td>...</td>\n",
       "      <td>...</td>\n",
       "      <td>...</td>\n",
       "      <td>...</td>\n",
       "      <td>...</td>\n",
       "    </tr>\n",
       "    <tr>\n",
       "      <th>1770</th>\n",
       "      <td>Kitchen</td>\n",
       "      <td>0</td>\n",
       "      <td>28.0</td>\n",
       "      <td>-2.81</td>\n",
       "      <td>-25.19</td>\n",
       "      <td>0.00</td>\n",
       "    </tr>\n",
       "    <tr>\n",
       "      <th>1771</th>\n",
       "      <td>Jewelry</td>\n",
       "      <td>0</td>\n",
       "      <td>28.0</td>\n",
       "      <td>0.00</td>\n",
       "      <td>-28.00</td>\n",
       "      <td>0.00</td>\n",
       "    </tr>\n",
       "    <tr>\n",
       "      <th>1772</th>\n",
       "      <td>Basket</td>\n",
       "      <td>0</td>\n",
       "      <td>116.0</td>\n",
       "      <td>-23.20</td>\n",
       "      <td>-92.80</td>\n",
       "      <td>0.00</td>\n",
       "    </tr>\n",
       "    <tr>\n",
       "      <th>1773</th>\n",
       "      <td>Kitchen</td>\n",
       "      <td>0</td>\n",
       "      <td>16.5</td>\n",
       "      <td>0.00</td>\n",
       "      <td>-16.50</td>\n",
       "      <td>0.00</td>\n",
       "    </tr>\n",
       "    <tr>\n",
       "      <th>1774</th>\n",
       "      <td>Kitchen</td>\n",
       "      <td>-1</td>\n",
       "      <td>0.0</td>\n",
       "      <td>0.00</td>\n",
       "      <td>-106.25</td>\n",
       "      <td>-106.25</td>\n",
       "    </tr>\n",
       "  </tbody>\n",
       "</table>\n",
       "<p>1767 rows × 6 columns</p>\n",
       "</div>"
      ],
      "text/plain": [
       "         Product Type  Net Quantity  Gross Sales  Discounts  Returns  \\\n",
       "0     Art & Sculpture            34      14935.0    -594.00 -1609.00   \n",
       "1              Basket            13       3744.0    -316.80     0.00   \n",
       "2              Basket            12       3825.0    -201.60  -288.00   \n",
       "3              Basket            17       3035.0     -63.25     0.00   \n",
       "4     Art & Sculpture            47       2696.8     -44.16     0.00   \n",
       "...               ...           ...          ...        ...      ...   \n",
       "1770          Kitchen             0         28.0      -2.81   -25.19   \n",
       "1771          Jewelry             0         28.0       0.00   -28.00   \n",
       "1772           Basket             0        116.0     -23.20   -92.80   \n",
       "1773          Kitchen             0         16.5       0.00   -16.50   \n",
       "1774          Kitchen            -1          0.0       0.00  -106.25   \n",
       "\n",
       "      Total Net Sales  \n",
       "0            12732.00  \n",
       "1             3427.20  \n",
       "2             3335.40  \n",
       "3             2971.75  \n",
       "4             2652.64  \n",
       "...               ...  \n",
       "1770             0.00  \n",
       "1771             0.00  \n",
       "1772             0.00  \n",
       "1773             0.00  \n",
       "1774          -106.25  \n",
       "\n",
       "[1767 rows x 6 columns]"
      ]
     },
     "execution_count": 40,
     "metadata": {},
     "output_type": "execute_result"
    }
   ],
   "source": [
    "sales_df"
   ]
  },
  {
   "cell_type": "code",
   "execution_count": 41,
   "id": "e9f3aa7f",
   "metadata": {},
   "outputs": [
    {
     "data": {
      "text/html": [
       "<div>\n",
       "<style scoped>\n",
       "    .dataframe tbody tr th:only-of-type {\n",
       "        vertical-align: middle;\n",
       "    }\n",
       "\n",
       "    .dataframe tbody tr th {\n",
       "        vertical-align: top;\n",
       "    }\n",
       "\n",
       "    .dataframe thead th {\n",
       "        text-align: right;\n",
       "    }\n",
       "</style>\n",
       "<table border=\"1\" class=\"dataframe\">\n",
       "  <thead>\n",
       "    <tr style=\"text-align: right;\">\n",
       "      <th></th>\n",
       "      <th>Product Type</th>\n",
       "      <th>Net Quantity</th>\n",
       "      <th>Gross Sales</th>\n",
       "      <th>Discounts</th>\n",
       "      <th>Returns</th>\n",
       "      <th>Total Net Sales</th>\n",
       "    </tr>\n",
       "  </thead>\n",
       "  <tbody>\n",
       "    <tr>\n",
       "      <th>1774</th>\n",
       "      <td>Kitchen</td>\n",
       "      <td>-1</td>\n",
       "      <td>0.0</td>\n",
       "      <td>0.0</td>\n",
       "      <td>-106.25</td>\n",
       "      <td>-106.25</td>\n",
       "    </tr>\n",
       "  </tbody>\n",
       "</table>\n",
       "</div>"
      ],
      "text/plain": [
       "     Product Type  Net Quantity  Gross Sales  Discounts  Returns  \\\n",
       "1774      Kitchen            -1          0.0        0.0  -106.25   \n",
       "\n",
       "      Total Net Sales  \n",
       "1774          -106.25  "
      ]
     },
     "execution_count": 41,
     "metadata": {},
     "output_type": "execute_result"
    }
   ],
   "source": [
    "sales_df[sales_df['Total Net Sales'] < 0]"
   ]
  },
  {
   "cell_type": "code",
   "execution_count": 42,
   "id": "94896cde",
   "metadata": {},
   "outputs": [],
   "source": [
    "sales_per_item = sales_df.groupby('Product Type').sum()['Total Net Sales'] / sales_df.groupby('Product Type').sum()['Net Quantity']"
   ]
  },
  {
   "cell_type": "code",
   "execution_count": 43,
   "id": "96dd066a",
   "metadata": {},
   "outputs": [
    {
     "data": {
      "text/plain": [
       "([0, 1, 2, 3, 4, 5, 6, 7, 8, 9, 10, 11, 12, 13, 14, 15, 16, 17],\n",
       " [Text(0, 0, ''),\n",
       "  Text(0, 0, ''),\n",
       "  Text(0, 0, ''),\n",
       "  Text(0, 0, ''),\n",
       "  Text(0, 0, ''),\n",
       "  Text(0, 0, ''),\n",
       "  Text(0, 0, ''),\n",
       "  Text(0, 0, ''),\n",
       "  Text(0, 0, ''),\n",
       "  Text(0, 0, ''),\n",
       "  Text(0, 0, ''),\n",
       "  Text(0, 0, ''),\n",
       "  Text(0, 0, ''),\n",
       "  Text(0, 0, ''),\n",
       "  Text(0, 0, ''),\n",
       "  Text(0, 0, ''),\n",
       "  Text(0, 0, ''),\n",
       "  Text(0, 0, '')])"
      ]
     },
     "execution_count": 43,
     "metadata": {},
     "output_type": "execute_result"
    },
    {
     "data": {
      "image/png": "[encoded data removed]",
      "text/plain": [
       "<Figure size 432x288 with 1 Axes>"
      ]
     },
     "metadata": {
      "needs_background": "light"
     },
     "output_type": "display_data"
    }
   ],
   "source": [
    "# increase revenue by producing more one-of-a-kind products\n",
    "plt.bar(sales_per_item.index.tolist(), sales_per_item.values.tolist())\n",
    "plt.xticks(rotation = 80)"
   ]
  },
  {
   "cell_type": "code",
   "execution_count": 62,
   "id": "9da8f96d",
   "metadata": {},
   "outputs": [
    {
     "data": {
      "text/html": [
       "<div>\n",
       "<style scoped>\n",
       "    .dataframe tbody tr th:only-of-type {\n",
       "        vertical-align: middle;\n",
       "    }\n",
       "\n",
       "    .dataframe tbody tr th {\n",
       "        vertical-align: top;\n",
       "    }\n",
       "\n",
       "    .dataframe thead th {\n",
       "        text-align: right;\n",
       "    }\n",
       "</style>\n",
       "<table border=\"1\" class=\"dataframe\">\n",
       "  <thead>\n",
       "    <tr style=\"text-align: right;\">\n",
       "      <th></th>\n",
       "      <th>Product Type</th>\n",
       "      <th>Net Quantity</th>\n",
       "      <th>Gross Sales</th>\n",
       "      <th>Discounts</th>\n",
       "      <th>Returns</th>\n",
       "      <th>Total Net Sales</th>\n",
       "    </tr>\n",
       "  </thead>\n",
       "  <tbody>\n",
       "    <tr>\n",
       "      <th>0</th>\n",
       "      <td>Art &amp; Sculpture</td>\n",
       "      <td>34</td>\n",
       "      <td>14935.0</td>\n",
       "      <td>-594.00</td>\n",
       "      <td>-1609.00</td>\n",
       "      <td>12732.00</td>\n",
       "    </tr>\n",
       "    <tr>\n",
       "      <th>1</th>\n",
       "      <td>Basket</td>\n",
       "      <td>13</td>\n",
       "      <td>3744.0</td>\n",
       "      <td>-316.80</td>\n",
       "      <td>0.00</td>\n",
       "      <td>3427.20</td>\n",
       "    </tr>\n",
       "    <tr>\n",
       "      <th>2</th>\n",
       "      <td>Basket</td>\n",
       "      <td>12</td>\n",
       "      <td>3825.0</td>\n",
       "      <td>-201.60</td>\n",
       "      <td>-288.00</td>\n",
       "      <td>3335.40</td>\n",
       "    </tr>\n",
       "    <tr>\n",
       "      <th>3</th>\n",
       "      <td>Basket</td>\n",
       "      <td>17</td>\n",
       "      <td>3035.0</td>\n",
       "      <td>-63.25</td>\n",
       "      <td>0.00</td>\n",
       "      <td>2971.75</td>\n",
       "    </tr>\n",
       "    <tr>\n",
       "      <th>4</th>\n",
       "      <td>Art &amp; Sculpture</td>\n",
       "      <td>47</td>\n",
       "      <td>2696.8</td>\n",
       "      <td>-44.16</td>\n",
       "      <td>0.00</td>\n",
       "      <td>2652.64</td>\n",
       "    </tr>\n",
       "    <tr>\n",
       "      <th>...</th>\n",
       "      <td>...</td>\n",
       "      <td>...</td>\n",
       "      <td>...</td>\n",
       "      <td>...</td>\n",
       "      <td>...</td>\n",
       "      <td>...</td>\n",
       "    </tr>\n",
       "    <tr>\n",
       "      <th>1770</th>\n",
       "      <td>Kitchen</td>\n",
       "      <td>0</td>\n",
       "      <td>28.0</td>\n",
       "      <td>-2.81</td>\n",
       "      <td>-25.19</td>\n",
       "      <td>0.00</td>\n",
       "    </tr>\n",
       "    <tr>\n",
       "      <th>1771</th>\n",
       "      <td>Jewelry</td>\n",
       "      <td>0</td>\n",
       "      <td>28.0</td>\n",
       "      <td>0.00</td>\n",
       "      <td>-28.00</td>\n",
       "      <td>0.00</td>\n",
       "    </tr>\n",
       "    <tr>\n",
       "      <th>1772</th>\n",
       "      <td>Basket</td>\n",
       "      <td>0</td>\n",
       "      <td>116.0</td>\n",
       "      <td>-23.20</td>\n",
       "      <td>-92.80</td>\n",
       "      <td>0.00</td>\n",
       "    </tr>\n",
       "    <tr>\n",
       "      <th>1773</th>\n",
       "      <td>Kitchen</td>\n",
       "      <td>0</td>\n",
       "      <td>16.5</td>\n",
       "      <td>0.00</td>\n",
       "      <td>-16.50</td>\n",
       "      <td>0.00</td>\n",
       "    </tr>\n",
       "    <tr>\n",
       "      <th>1774</th>\n",
       "      <td>Kitchen</td>\n",
       "      <td>-1</td>\n",
       "      <td>0.0</td>\n",
       "      <td>0.00</td>\n",
       "      <td>-106.25</td>\n",
       "      <td>-106.25</td>\n",
       "    </tr>\n",
       "  </tbody>\n",
       "</table>\n",
       "<p>1767 rows × 6 columns</p>\n",
       "</div>"
      ],
      "text/plain": [
       "         Product Type  Net Quantity  Gross Sales  Discounts  Returns  \\\n",
       "0     Art & Sculpture            34      14935.0    -594.00 -1609.00   \n",
       "1              Basket            13       3744.0    -316.80     0.00   \n",
       "2              Basket            12       3825.0    -201.60  -288.00   \n",
       "3              Basket            17       3035.0     -63.25     0.00   \n",
       "4     Art & Sculpture            47       2696.8     -44.16     0.00   \n",
       "...               ...           ...          ...        ...      ...   \n",
       "1770          Kitchen             0         28.0      -2.81   -25.19   \n",
       "1771          Jewelry             0         28.0       0.00   -28.00   \n",
       "1772           Basket             0        116.0     -23.20   -92.80   \n",
       "1773          Kitchen             0         16.5       0.00   -16.50   \n",
       "1774          Kitchen            -1          0.0       0.00  -106.25   \n",
       "\n",
       "      Total Net Sales  \n",
       "0            12732.00  \n",
       "1             3427.20  \n",
       "2             3335.40  \n",
       "3             2971.75  \n",
       "4             2652.64  \n",
       "...               ...  \n",
       "1770             0.00  \n",
       "1771             0.00  \n",
       "1772             0.00  \n",
       "1773             0.00  \n",
       "1774          -106.25  \n",
       "\n",
       "[1767 rows x 6 columns]"
      ]
     },
     "execution_count": 62,
     "metadata": {},
     "output_type": "execute_result"
    }
   ],
   "source": [
    "sales_df[]"
   ]
  },
  {
   "cell_type": "code",
   "execution_count": 72,
   "id": "d902fa45",
   "metadata": {},
   "outputs": [
    {
     "data": {
      "text/plain": [
       "3497"
      ]
     },
     "execution_count": 72,
     "metadata": {},
     "output_type": "execute_result"
    }
   ],
   "source": [
    "total_orders = sum(monthly_sales_df['Total Orders'].values.tolist())\n",
    "total_orders"
   ]
  },
  {
   "cell_type": "code",
   "execution_count": 73,
   "id": "e97b90de",
   "metadata": {},
   "outputs": [
    {
     "data": {
      "text/plain": [
       "6582"
      ]
     },
     "execution_count": 73,
     "metadata": {},
     "output_type": "execute_result"
    }
   ],
   "source": [
    "total_items_sold = sum(sales_df['Net Quantity'].values.tolist())\n",
    "total_items_sold"
   ]
  },
  {
   "cell_type": "code",
   "execution_count": 76,
   "id": "be51569f",
   "metadata": {},
   "outputs": [
    {
     "data": {
      "text/plain": [
       "1.88"
      ]
     },
     "execution_count": 76,
     "metadata": {},
     "output_type": "execute_result"
    }
   ],
   "source": [
    "# each order is two items bought on average\n",
    "avg_order = round(total_items_sold / total_orders, 2)\n",
    "avg_order"
   ]
  },
  {
   "cell_type": "code",
   "execution_count": null,
   "id": "0fa15153",
   "metadata": {},
   "outputs": [],
   "source": [
    "#Questions to Answer\n",
    "# Are Sales Increasing? --> Yes\n",
    "# What products are selling the most? --> Basket, Art & Sculpture, jewelry\n",
    "# What products are selling the least? --> Easter, Gift Baskets, One-of-a-kind\n",
    "# Do Higher Discounts result in more products sold? Total Net Sales? --> Yes\n",
    "# What products are increasing the most in demand? --> cannot determine"
   ]
  }
 ],
 "metadata": {
  "kernelspec": {
   "display_name": "Python [conda env:PythonData]",
   "language": "python",
   "name": "conda-env-PythonData-py"
  },
  "language_info": {
   "codemirror_mode": {
    "name": "ipython",
    "version": 3
   },
   "file_extension": ".py",
   "mimetype": "text/x-python",
   "name": "python",
   "nbconvert_exporter": "python",
   "pygments_lexer": "ipython3",
   "version": "3.7.13"
  }
 },
 "nbformat": 4,
 "nbformat_minor": 5
}
